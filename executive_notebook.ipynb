{
 "cells": [
  {
   "cell_type": "markdown",
   "metadata": {},
   "source": [
    "# Introduction\n",
    "\n",
    "See the readme for a more \"high level\" orientation of the goals here.  In an immediate technical sense, we seek to build a binary classifier on a large textual data set, originating from reddit comments.  Our evaluation direct metric is recall for the target class, as a secondary evaluation standard we seek a model with with explainable and immediately sensible features, at least in aggregate. \n",
    "\n",
    "Some \"high level\", in the weakening sense of the term, discussion **is** provided in the concluding remarks. \n",
    "\n",
    "_____\n",
    "______\n",
    "# Contents\n",
    "______\n",
    "### 1) [Overview of Data Gathering and Processing](#heading1)\n",
    "### 2) [Overview of Data Cleaning](#heading2)\n",
    "### 3) [Model Creation](#heading3)\n",
    "### 4) [Model Selection](#heading4)\n",
    "### 5) [Model Evaluation](#heading5)\n",
    "### 6) [Concluding Remarks](#heading6)"
   ]
  },
  {
   "cell_type": "code",
   "execution_count": 30,
   "metadata": {},
   "outputs": [],
   "source": [
    "#Initial imports:\n",
    "from ex_id_tools import data_processing,text_cleaning,modelling\n",
    "import pickle\n",
    "import numpy as np\n",
    "import re\n",
    "import pandas as pd\n",
    "import seaborn as sns\n",
    "sns.set_palette('husl')\n",
    "sns.set_style('darkgrid')"
   ]
  },
  {
   "cell_type": "markdown",
   "metadata": {},
   "source": [
    "<a id='heading1'></a>\n",
    "_________________________________\n",
    "# Overview of Data Gathering and Processing"
   ]
  },
  {
   "cell_type": "markdown",
   "metadata": {},
   "source": [
    "Our data was gathered by direct export from a data set available through [pushhift.io's collection of reddit comments](https://files.pushshift.io/reddit/comments/).  The data unfortunately came \"raw\", with no strong attempt to avoid conflit with any potential .csv separators, and so much attention had to be paid to cleaning throughout the process. Two month's of data were used, representing all reddit comments from August and September of 2017. August of 2017 contained 84,658,503 posts; September contained 83,165,192.  The use of two months was due to an external constraint; namely to make the data processing be even remotely feasible.  The months chosen were semi-arbitrary, they fulfilled two criteria of not being obviously \"special\" with respect to political activity (somewhat removed in time from the previous election, not obviously around any major political stories relative to what's possible, etc) and being far enough back in time that it was possible to have some semblence of removednesses from current ongoings in order to try to assess media spotlighting of specific communities. As mentioned earlier, the files are quite large, both between 7-8 GB in their compressed form.  As such, they are not provided in this repo; rather if one wishes to reproduce this work these files should be obtained from the link given above.  \n",
    "\n",
    "\n",
    "Note that \"post\" here is being used in the conventional sense, interchangeable with \"comment\".  It is not uncommon within reddit to treat \"posts\" as the initial comment or item beginning a thread and all subsequent replies along that thread as \"comments\".  The comments here represent both of these.  \n",
    "\n",
    "Each month's data was formatted, in the original compressed .bz2 file, such that a single line would correspond to a single reddit post containing the following features:\n",
    "\n",
    "|Entry|Explanation|\n",
    "|--:|:--|\n",
    "|body|The post contents, exactly as made (more on this below).|\n",
    "|score hidden|Deprecated (null).|\n",
    "|archived|Deprecated (null).|\n",
    "|author|The username of the comment's creator.|\n",
    "|author_flair_text|A short string associated with a specific user within a specific subreddit.|\n",
    "|downs|Deprecated (null).|\n",
    "|created_utc|Time the post was authored|\n",
    "|subreddit_id|Code identifying subreddit (subforum/community) the post was made to.|\n",
    "|link_id|Contradictory explanations, perhaps changing over time.  Seemingly represents a link to the specific post. Unused.|\n",
    "|parent_id|Identifies original post in a given thread.|\n",
    "|score|The rating given to the post by other users.|\n",
    "|retreived_on|The time the post was archived (presumably, unclear).|\n",
    "|controversiality|Possibly deprecated, possibly still functioning as a flag to indicate a post received both many positive and negative ratings.  Unused.|\n",
    "|gilded|Indicates that a post resulted in another user gifting the author with \"reddit gold\", access to premium reddit features for a given period of time.|\n",
    "|id|Identifies the post.|\n",
    "|subreddit|The community/subforum the post was made to.|\n",
    "|ups|Deprecated (null).|\n",
    "|distinguished|Deprecated (null).|\n",
    "|author_flair_css_class|Represents a decorator a post author might have associated with their account on a given subreddit.|\n",
    "\n",
    "Of these featueres, the fields initially chosen to preserve during decompression were 'body', 'id', 'author', 'created_utc','subreddit','retrieved_on',and 'parent_id'.  Ultimately only 'subreddit' and 'body' were used for analysis. \n",
    "\n",
    "Mindful of memory constraints, the basic plan for the files was then:\n",
    "1. Open the .bz2 file to read line-by-line\n",
    "2. Initialize \"files written\" counter and a \"lines written\" counter. \n",
    "3. Open a .csv file to write to, appending to its name the current value for the \"files written\" counter.  \n",
    "4. Read a line from the .bz2 file.  If it passes the filtering criteria, explained below, write it to the open .csv file and increment the \"lines written\" counter by one.  \n",
    "5. If the number of lines written has surpassed a pre-set size, chosen (perhaps too cautiously) as 1,000,000, close the .csv file, increment the \"files written\" counter by 1, and start writing to a new .csv file with that counter's value as the new ending of its name. \n",
    "6. Continue until the .bz2 file is empty.\n",
    "\n",
    "This functionality is provided in the `dataprocessing` subpackage of the `ex_id_tools` package included in this repo, should one wish to use it directly, under the module name `unpack_zipped`.  It should work with at least the files written *up to* these ones, though it's not impossible that something will go wrong for files written later. \n",
    "\n",
    "There are two things to note here: \n",
    "1. To save time and memory, some lines were automatically filtered out, based on initial exploration of samples of the data.  This consisted of \"users\" that were in actuality bots providing some site-wide helpful function, as well as posts that had been deleted prior to being harvested into the original dataset.  \n",
    "2. The comments were transcribed directly into the original data set. As such, every csv separator that *could* come up *did* come up; keep in mind for instance there are conceivably comments made in reddit of people giving examples of csv files with different separators.  A choice was made that seemed to minimize errors and the fieldnames were specified ahead of time to try to mitigate this, but the data comes in extremely messy regardless and problematic entries do exist, which must later be handled.  \n",
    "\n",
    "We'll shortly see this data being put into a sql database for further manipulation; if resources allow, note this same data is available on [Google's BigQuery service](https://console.cloud.google.com/bigquery?project=first-mark-284422&redirect_from_classic=true&p=fh-bigquery&d=reddit_comments&page=dataset), though an interested party should note that size of the tables means that even modest queries will require significant data usage.\n",
    "\n",
    "\n",
    "\n",
    "\n",
    "These csvs were then explored a bit to get a feel for what would be feasible.  It was determined that as part of this work time and resource constraints would restrict analysis to simply subreddit and body information; while the other details provided in these files is useful and will be fruitful for further analysis, we will now move to extracting only the desired information.  "
   ]
  },
  {
   "cell_type": "markdown",
   "metadata": {},
   "source": [
    "To create the data used in the next cell executions, please download the data explained above and run, with the filenames `file1.bz2` and `file2.bz2` swapped out for your file names (as well as schanging the target file names if desired), the following cell:"
   ]
  },
  {
   "cell_type": "code",
   "execution_count": 4,
   "metadata": {},
   "outputs": [],
   "source": [
    "data_processing.unpack_zipped('file1.bz2','file1_unzipped_stem')\n",
    "data_processing.unpack_zipped('file2.bz2','file1_unzipped_stem')"
   ]
  },
  {
   "cell_type": "markdown",
   "metadata": {},
   "source": [
    "Resource limitations on both the ability to read files in and out of storage and to process large amounts of data in-core guided further data gathering.  For easy of reading through data not held in RAM, the locally downloaded datasets were read into a sql .db file.   Doing so is very simple with the .csv's obtained a moment ago, we simply loop panda's `to_sql` method over the list of files.  The `data_processing` subpackage gives this capability in the form of the `database_create` method, and can be run here:"
   ]
  },
  {
   "cell_type": "code",
   "execution_count": 5,
   "metadata": {},
   "outputs": [],
   "source": [
    "data_processing.database_create('reddit_comments.db', #You may wish to change this name\n",
    "                source_files #Put your list of files here\n",
    "                ,make_new_table=True) #You will be prompted to confirm you wish to make a new table"
   ]
  },
  {
   "cell_type": "markdown",
   "metadata": {},
   "source": [
    "With the data now in a sql table, the target class data was gathered by crawling through our list for members of our target communities, which were identified through researching controversial reddit communities within the site's internal news, searches through broad media coverage such as vantiy fair or the washington post, wikipedia's of \"controversial reddit communities\", and the southern poverty law center's coverage.  Those communities are stored in the data_sets folder as `working_list.p`"
   ]
  },
  {
   "cell_type": "code",
   "execution_count": 5,
   "metadata": {},
   "outputs": [],
   "source": [
    "with open(r'data_sets\\working_list.p','rb') as file:\n",
    "    working_list=pickle.load(file)"
   ]
  },
  {
   "cell_type": "markdown",
   "metadata": {},
   "source": [
    "We can then generate a  generally useful thing to have, a list of subreddit frequency, by counting these from our SQL table.  This capability is given in the data_processing package, and can be done by executing the cell below:"
   ]
  },
  {
   "cell_type": "code",
   "execution_count": null,
   "metadata": {},
   "outputs": [],
   "source": [
    "sub_counts=data_processing.count_subreddits('reddit_comments.db')"
   ]
  },
  {
   "cell_type": "markdown",
   "metadata": {},
   "source": [
    "This is also given by the sub_counts.p file in the data_sets folder."
   ]
  },
  {
   "cell_type": "code",
   "execution_count": 3,
   "metadata": {},
   "outputs": [],
   "source": [
    "with open(r'data_sets\\sub_counts.p','rb') as file:\n",
    "    sub_counts=pickle.load(file)"
   ]
  },
  {
   "cell_type": "markdown",
   "metadata": {},
   "source": [
    "This allows us to visualize some basic properties of the data, for instance what's shown below ![example_image](graphics\\size_distribution_readme.png) ."
   ]
  },
  {
   "cell_type": "markdown",
   "metadata": {},
   "source": [
    "Target (extreme) subreddits were then generated by looping through the database to gather all such posts, then grouping the resulting dataframe by subreddit and appending the desired post collections to a dataframe, which is then written to a csv:"
   ]
  },
  {
   "cell_type": "code",
   "execution_count": null,
   "metadata": {},
   "outputs": [],
   "source": [
    "for c in working_list:\n",
    "    #proceed by subreddit\n",
    "    df=pd.read_sql(f'''\n",
    "    SELECT * FROM POSTS WHERE UPPER(subreddit) = \"{c}\"\n",
    "    ''', conn,['subreddit','body']\n",
    "                   )\n",
    "    #get all needed posts\n",
    "    df.reset_index(inplace=True)\n",
    "    df=df[['body','subreddit']]\n",
    "    df.dropna(inplace=True)    \n",
    "    #We drop poor entries as we read\n",
    "    df=pd.DataFrame((df.groupby(df.index // 100).body.sum()).iloc[:-1])\n",
    "    #regroup by into sets of 100\n",
    "    df['subreddit']=f'{c}'.upper()\n",
    "    #format the subreddit name\n",
    "    df.to_csv('class1_df.csv',mode='a',index=False,header=None)\n",
    "    #write the result -- note the use of append here. "
   ]
  },
  {
   "cell_type": "markdown",
   "metadata": {},
   "source": [
    "The training data is then gathered by using the previously-found subbreddit frequencies to assign candidates to gather.  We create a list from this by choosing from the list of subreddits with replacement, weighting appropriately.  We then crawl through our sql database, grabbing sets of a hundred at random with the knowledge of how many sets of a hundred there are to grab from, per subreddit, again by referencing our sub_counts list. \n",
    "\n",
    "This is a bit involved, so we break it into two cells below and show the midway result of the first chunk, where the subreddits we'll look for and the groups of a hundred we'll gather are given below."
   ]
  },
  {
   "cell_type": "code",
   "execution_count": 6,
   "metadata": {},
   "outputs": [
    {
     "data": {
      "text/plain": [
       "[('1200ISJERKY', array([0])),\n",
       " ('1200ISPLENTY', array([  2,  24, 129, 145])),\n",
       " ('18_19', array([6])),\n",
       " ('2007SCAPE',\n",
       "  array([ 687,   65, 1040,  463, 2661, 2399,  559,  102, 2498, 1965, 2726,\n",
       "         1105, 2823, 2080, 1978, 1098, 1064, 1525,  210, 2194,  654, 2727,\n",
       "         1183, 1886, 2096,  855, 1691, 1736, 3182,  274,  976, 2705, 1746,\n",
       "         1776,  260, 1324, 2360, 1962, 1921,  772, 1973,  778, 2990, 3057,\n",
       "         2891,   11, 1271, 2614, 2236, 2545,    2, 1940,  888, 1253, 3019,\n",
       "         1912, 2110,  871, 1180])),\n",
       " ('23ANDME', array([13]))]"
      ]
     },
     "metadata": {},
     "output_type": "display_data"
    }
   ],
   "source": [
    "useable={k:v for k,v in sub_counts.items() if v>=100}\n",
    "#get a dictionary containing only those subreddits large enough to qualify for further collection\n",
    "\n",
    "weighting=sum(list(v for k,v in useable.items() if k not in working_list))\n",
    "#Count total number of posts by sub \n",
    "\n",
    "useable_weights={k:v/weighting for k,v in useable.items() if k not in working_list}\n",
    "#Get the normalized non-extreme weights\n",
    "\n",
    "using_size=sum([sub_counts[k]//100 for k in working_list])\n",
    "#Going for a 50/50 split initially -- this is a known bad idea-- and so just passing the number of 100s groupings.  \n",
    "#The size should be adjusted to be as large as memory and time allows for. \n",
    "\n",
    "random_selector=np.random.default_rng(seed=98)\n",
    "#set up rng\n",
    "using_subs=random_selector.choice(list(useable_weights.keys()),size=using_size,p=list(useable_weights.values()))\n",
    "#Pick the subs randomly\n",
    "using_subs=np.unique(using_subs,return_counts=True)\n",
    "#Turn them into counted objects, for use below\n",
    "using_subs={sub:int(count) for sub,count in np.array(using_subs).T}\n",
    "#Turn this into a dict, which ends up being a little redundant but helps at least *me* to get my head around what's \n",
    "#happening\n",
    "\n",
    "indexing_dict={k:random_selector.choice(range(sub_counts[k]//100),size=v\n",
    "                                       ) for k,v in using_subs.items()}\n",
    "#This is definitely not as succinct as it could be, but is much more readable as a result.  Note range's exclusion behavior\n",
    "#will have the effect of dropping the last option for our grabbing placement, which is good because we don't want that.\n",
    "\n",
    "display([(k,v) for k,v in list(indexing_dict.items())[:5]])\n",
    "#Print the first five items, to show what's going on, while resenting the way python handles dictionaries"
   ]
  },
  {
   "cell_type": "markdown",
   "metadata": {},
   "source": [
    "We now crawl again though our sql database.  This is a slow process no matter what we do, but by being a bit clever and being willing to be a bit opaque in our code we can speed up the process a little.  With the array of locations above, we crawl through our sql dataframe for each subreddit a little at a time, recording those chunks of 100 that are in our list of chunks to grab, and stopping when we've hit the last one we need to get to.  By doing this we can avoid the much more costly \".fetchall()\" being given to sqlite3.  \n",
    "\n",
    "<font color='gray'>*NB: This notebook is reporting what was done, not what one should do. Such a process will still be quite slow on an entirely local, consumer-level computer system, if done in SQL, but will be much less convoluted.  The hope here was that there would be some speed advantage by doing this with python, however this does not seem to be the case.  Further work would include collecting more data with an appropriate sql query.*</font>"
   ]
  },
  {
   "cell_type": "code",
   "execution_count": null,
   "metadata": {},
   "outputs": [],
   "source": [
    "#just pulling out anything not alphanumeric or part of the desired formatting form\n",
    "subber=re.compile(r'[\\w_/]+')\n",
    "\n",
    "for subreddit in indexing_dict.keys():\n",
    "    temp_df=pd.DataFrame(columns=['body','subreddit'])\n",
    "    c.execute(f'''\n",
    "    SELECT subreddit,body FROM POSTS WHERE UPPER(subreddit) = \"{sub}\" \n",
    "    ''')\n",
    "    n=0\n",
    "    #Begin crawling through\n",
    "    while n<=indexing_dict[sub].max():\n",
    "        #Max so we only check as far as we need to\n",
    "        grab=c.fetchmany(100)\n",
    "        #pull up 100 posts\n",
    "        if n in indexing_dict[sub]:\n",
    "            #see if this is one of our numbers, if so record it\n",
    "            temp_df=temp_df.append({'subreddit':subreddit, 'body':subber.sub(' ',' '.join([\n",
    "                str(entry[1]) for entry in grab\n",
    "            ]))},ignore_index=True)        \n",
    "        n+=1\n",
    "        #Writing to csv as we go because in case something goes awry midway though so that we don't need to lose work \n",
    "    temp_df.to_csv('class0_sym_data.csv',mode='a',header=False)"
   ]
  },
  {
   "cell_type": "markdown",
   "metadata": {},
   "source": [
    "We can then concatenate our two dataframes into a single one, which we'll call \"crude_training_data.csv\" and assign the appropriate labels:"
   ]
  },
  {
   "cell_type": "code",
   "execution_count": null,
   "metadata": {},
   "outputs": [],
   "source": [
    "df0=pd.read_csv('class0_sym_data.csv',header=None,names=['snapshot','subreddit','label'])\n",
    "df0['label']=0\n",
    "df1=pd.read_csv('class1_df.csv',header=None,names=['snapshot','subreddit','label'])\n",
    "df1['label']=1\n",
    "df_full=df0.append(df1,ignore_index=True)\n",
    "df_full.to_csv(r'data_sets\\crude_training_data.csv',header=None,names=['snapshot','subreddit','label'])"
   ]
  },
  {
   "cell_type": "markdown",
   "metadata": {},
   "source": [
    "# Overview of Data Cleaning<a id='heading2'></a>"
   ]
  },
  {
   "cell_type": "markdown",
   "metadata": {},
   "source": [
    "Here, we go through the work done for our data cleaning.  This is being done on the data that was actually used, with exteme emperical oversampling of the target class.  Aside from insights originating from direct sporadic observation of the data, however, the procedures are in principle blind to the overall picture of the data and could be applied to other reddit comments used to supplement this data.\n",
    "\n",
    "The procedures done here are also located in the `text_cleaning` subpackage of the `ex_id`, along with a table of the regex expressions used and their intent.  Our goal here is to normalize our text for both the purpose of analysis but also to make using a larger sample more tractable for global learning and analysis on a single machine.  The resulting file, used for model training, is already located under the `data_sets` directory, this notebook shows how it is created but does not *need* to be ran for the other notebooks to work. \n",
    "\n",
    "We begin by importing the \"crude working data\" created in the <a id='heading1'>data harvesting</a> step above."
   ]
  },
  {
   "cell_type": "code",
   "execution_count": null,
   "metadata": {},
   "outputs": [],
   "source": [
    "working_data=pd.read_csv(r'data_sets\\crude_data.csv',names=['snapshot','subreddit','label'],header=None)"
   ]
  },
  {
   "cell_type": "markdown",
   "metadata": {},
   "source": [
    "We first take everything to lowercase and then try to drop anything problematic.  There are two types of meaningful tokens we want to be aware of besides works: the first, website urls-- we want to preserve this information the best that we can, at least initially (consider that choosing to drop websites will be as hard to do evenly across the board as finding a way to condense them).  The second is internal reddit username and subforum links, which are written as /u/user_name or /r/subreddit_name.  Nominally the links should begin with a /, though investigation shows that often is not the case.  The name itself can consist of a sequence of letters, numbers, or underscores.  We'd like to preserve this structure (we don't want to confuse \"/r/politics\", a political board on reddit, with the normal term \"politics\" for instance).  We'll write further text processing with this in mind, for now though we'll pass a regex substitution to normalize the expressions:\n",
    "\n",
    "We will match anything of the form /u/valid_name_format or /r/valid_name_format and drop the leading /. These features, which are advisable to complete prior to the next step, can be accessed independently by the `basic_reddit_preformatting` method of `ex_id_tools.text_cleaning`"
   ]
  },
  {
   "cell_type": "code",
   "execution_count": null,
   "metadata": {},
   "outputs": [],
   "source": [
    "working_data['snapshot']=working_data['snapshot'].str.lower()\n",
    "#send all words to lowercase\n",
    "working_data['snapshot']=working_data.snapshot.str.replace('(?<![^\\s])/(?=\\w/[\\w]+)',' ')\n",
    "#clean /x/yz-type strings"
   ]
  },
  {
   "cell_type": "markdown",
   "metadata": {},
   "source": [
    "We then filter out non-english subforums; nominally part of data cleaning but not viable in an advisable way before basic text cleaning.  This is was done by identifying the ratio of non-english stopwords to english stopwords in each entry, then sorting the data by that ratio to try to find subreddits that may not be english-based.  This is a quite crude method, but allows for computational feasibility that more sophisticated means (using a pretrained classifier, presumably, or using a larger lexicon) would lack. \n",
    "\n",
    "The functionality is given in the `text_cleaning` submodule, under the name `crude_language_detect_toll`.  This series is used to define a sorted dataframe, then repeated slices can be displayed to find non-english subreddits.  The list of those found for this data set is saved as `foreign_sub_list.p` in the `data_sets` folder. "
   ]
  },
  {
   "cell_type": "code",
   "execution_count": null,
   "metadata": {},
   "outputs": [],
   "source": [
    "foreign_list=pickle.load(open(r'..\\data_sets\\foreign_sub_list.p','rb'))\n",
    "working_data.drop(working_data[working_data['subreddit'].isin(foreign_list)].index,inplace=True)"
   ]
  },
  {
   "cell_type": "code",
   "execution_count": null,
   "metadata": {},
   "outputs": [],
   "source": [
    "reddit_tokenizer=RegexpTokenizer(r'http[s]*[:]*[\\w_/]+|www[\\w/_]+|[ur]/[\\w]+|[a-z]{2,}')\n",
    "\n",
    "working_data['snapshot']=working_data['snapshot'].map(reddit_tokenizer.tokenize)\n",
    "working_data['snapshot']=working_data['snapshot'].map(lambda l: [s for s in l if s not in stopwords])"
   ]
  },
  {
   "cell_type": "markdown",
   "metadata": {},
   "source": [
    "At this point, initial modelling was attempted.  The results stimulated further cleaning, which is then done below.  First, we do take out the websites we previously had chosen to keep.  Note that in the filtering & tokenizing we're running the risk of losing some information, particularly non-english top-level domains (co.uk, now as co uk, begins to float around, for instance).  This helps motivate aggressive feature dropping later on-- already likely a good idea-- to try to suppress the effects of both the already existing noise and the incidental noise we introduce in trying to better isolate good features.  \n",
    "\n",
    "We should be aware at this point we are going to lose some messages written in a not-unpopular fromat <font color='blue'>O F T Y P I N G L I K E T H I S</font>\n",
    "\n",
    "We then attempt to collapse down repetitions, as users will often type \"hahahahahahahahahahahaha, hahahahahahahaha\", etc and those should likely be treated as the same.  Having handled this, we can then safely drop words that are of length greater than 45, which were read in incorrectly at some point or are otherwise unwanted, such as long internal/diagnostic text or websites.  Note this choice is for the purposes of computability and expedience; a preferable method in the absence of those would involve at least some information recovery from those strings with readily exploitable opportunities to be split."
   ]
  },
  {
   "cell_type": "code",
   "execution_count": null,
   "metadata": {},
   "outputs": [],
   "source": [
    "working_data['snapshot']=(working_data['snapshot']).map(lambda s:\n",
    "                        [word for word in s if not re.match('http[s]*[:]*[\\w_/]+|www[\\w/_]+',word)])\n",
    "#\"url_start\" in .text_cleaning.regex_store\n",
    "working_data['snapshot']=working_data['snapshot'].map(    \n",
    "        lambda s: list(\n",
    "            map(\n",
    "            (lambda w: re.sub(r'(\\w{1,3}\\w{0,3})\\1{3,}','\\g<1>\\g<1>',w))\n",
    "            ,s)))\n",
    "#\"repetitions_in and reptitions_out\" in .text_cleaning.regex_store.  This will consense 1-and-2 letter repetitions\n",
    "\n",
    "working_data['snapshot']=working_data['snapshot'].apply(lambda r: [w for w in r if len(w)<=45])\n",
    "#Drop long strings"
   ]
  },
  {
   "cell_type": "markdown",
   "metadata": {},
   "source": [
    "We then join our strings back together and resume further filtering, again informed by the results of intermediate models, on the data remaining.  First, we'll handle the abundant formatting characters like 'nbsp' that appear.  \n",
    "We'll use the list of character entity reference from:https://www.w3schools.com/html/html_entities.asp .  For ease we'll rejoin the snapshot column before working. In dropping these we take special care with respect to the details of the english language, a word ending with \"nbsp' probably just has that on as a mistake, but a word ending with \"amp\" is likely just a normal english word.  An opportunity exists here for further filtering by examining the distribution of, say, words ending in -amp and the five words that occur on either side, to see what can and cannot be safely extroplated relative to the exact data being examined.  This was done to some extent here, and further informs the regex used-- the word boundaries are such that, wherever they are not present, they are such that *no* words are mistkenly dropped.  They are quite conservative as a result. \n",
    "\n",
    "We first drop extract the center for anything of the form likely intended to be of the form <font color='blue'>**\\<**</font>\n",
    "    text\n",
    "    <font color='blue'>**\\>**\n",
    "        </font>, which would be possibly mis-represented in our data as <font color='blue'>**gt**</font>text<font color='blue'>**lt**</font>.  We then drop expected hmtl entities.  We will be introducing errant vocabulary here, expecially for simple hmtl tags; most are short and will be dropped or should be eliminated through feature extraction but it will be something to pay attention to. "
   ]
  },
  {
   "cell_type": "code",
   "execution_count": null,
   "metadata": {},
   "outputs": [],
   "source": [
    "html_entities=r'|'.join([r'[\\w]*nbsp[\\w]*',r'\\blt[\\w]*',r'\\bgt[\\w]*',r'\\bamp\\b',r'\\bquot\\b',r'\\bpos\\b'])\n",
    "#html_entities in  .text_cleaning.regex_store\n",
    "working_data['snapshot']=working_data['snapshot'].str.replace(r'lt(\\w*)gt',r'\\g<1>')\n",
    "#'html_tag_like_in' and 'html_tag_like_out' in text_cleaning.regex_store\n",
    "\n",
    "working_data['snapshot']=working_data['snapshot'].str.replace(html_entities,'')"
   ]
  },
  {
   "cell_type": "markdown",
   "metadata": {},
   "source": [
    "Some likely website addresses still remain; further, errant http or https strings were found at the end of innocuous words; in general this should be handled with careful grouping and splitting to preserve what follows -- and the complexity of the first regex pattern used expects & reflects that, but investigation showed here that we can just drop said patterns."
   ]
  },
  {
   "cell_type": "code",
   "execution_count": null,
   "metadata": {},
   "outputs": [],
   "source": [
    "working_data['snapshot']=working_data['snapshot'].str.replace(r'\\b\\w*http(?:[^s\\s]|(?:s\\w))+\\w*\\b','')\n",
    "#likely_url in regex-store\n",
    "working_data['snapshot']=working_data['snapshot'].str.replace(r'(\\w)http[s]*',r'\\g<1>')\n",
    "#'http_end_in' and 'http_end_out' in regex_store\n",
    "\n",
    "working_data['snapshot']=working_data['snapshot'].str.replace(r'\\w+(?:png|gif|jpg|jpeg)\\w*','')\n",
    "#image_endings in regex_store\n",
    "#drop likely image links, note this is a little more information-compromising\n",
    "#than might be expected due to the popularity of written out expressions like 'sad.jpg'\n",
    "\n",
    "working_data['snapshot']=working_data['snapshot'].str.replace(r'\\bcom\\b','')\n",
    "#isoloted_com in regex_store\n",
    "\n",
    "working_data['snapshot']=working_data['snapshot'].str.replace(r'\\bwww\\b','')\n",
    "#isolated_www in regex_store\n",
    "\n",
    "working_data['snapshot']=working_data['snapshot'].str.replace(r'http[s]*(?=\\s)','')\n",
    "working_data['snapshot']=working_data['snapshot'].str.replace(r'(?<=\\s)http[s]*','')\n",
    "#strings starting or ending with http"
   ]
  },
  {
   "cell_type": "markdown",
   "metadata": {},
   "source": [
    "More cleaning can likely be done.  Particularly, phrases like \"submission removed\" appear repatedly and represent some automatic action being taken that showed up in the post contents.  As we see elsewhere, though, we are able to get a good model with reasonable features from what results here. \n",
    "\n",
    "As promised, we can create our desired data by just running:"
   ]
  },
  {
   "cell_type": "code",
   "execution_count": null,
   "metadata": {},
   "outputs": [],
   "source": [
    "from ex_id_tools import text_cleaning\n",
    "text_cleaning.clean_series(working_data,foreign_list=pickle.load(open(r'data_sets\\foreign_sub_list.p','rb')))"
   ]
  },
  {
   "cell_type": "markdown",
   "metadata": {},
   "source": [
    "<a id='heading3'></a>\n",
    "# Model Creation"
   ]
  },
  {
   "cell_type": "markdown",
   "metadata": {},
   "source": [
    "Model creation with the fully created data was surprisingly straightforward.  We want a readily explainable model that involves easily explained features.  While empirical/approximate feature importances can be assigned to models not amenable to theoretical analysis, those that do admit such investigations are natural choices for what to investigate.  \n",
    "\n",
    "We'll use the same basic pipeline for all of our models, which will look like this:\n",
    "\n",
    "`Pipeline(TF-IDF, resampler, classifier)`"
   ]
  },
  {
   "cell_type": "markdown",
   "metadata": {},
   "source": [
    "We'll need to do resampling to account for the class imbalance introduced with the method above.  Doing so as part of the pipeline allows the resampling to be done only during training and handled in the same way during cross validation, to avoid subtle errors that may otherwise occur-- likely not consequential given the intrinsic sampling problems in our data generation, but still good practice and ensuring we're ready to roll with more data should it be secured. \n",
    "\n",
    "We also define the awkward function `identity_fxn`, which is necessary for passing to `sklearn`'s `tfidf_vectorizer` in order to be able to pass our own, already tokenized data-- which we'd prefer to do, as tokenizing the data is computationally expensive and doing it earlier does not introduce any data leakage (meaning we can in fact just save the result of having done this)."
   ]
  },
  {
   "cell_type": "code",
   "execution_count": null,
   "metadata": {
    "scrolled": false
   },
   "outputs": [],
   "source": [
    "from sklearn.model_selection import train_test_split, cross_validate\n",
    "from sklearn.feature_extraction.text import TfidfVectorizer\n",
    "from sklearn.naive_bayes import MultinomialNB, ComplementNB\n",
    "from sklearn.linear_model import SGDClassifier\n",
    "from sklearn.metrics import confusion_matrix, f1_score, roc_auc_score,classification_report,recall_score\n",
    "import matplotlib.pyplot as plt\n",
    "import nltk\n",
    "from nltk.tokenize import RegexpTokenizer\n",
    "import pickle\n",
    "from imblearn.pipeline import Pipeline as imb_Pipeline\n",
    "from imblearn.under_sampling import RandomUnderSampler\n",
    "import pickle\n",
    "import seaborn as sns\n",
    "from sklearn.tree import DecisionTreeClassifier\n",
    "import joblib\n",
    "\n",
    "def identity_fxn(x):\n",
    "    return(x)\n",
    "\n",
    "reddittokenizer=RegexpTokenizer('[ur]/[\\w]+|[a-z]{2,}')\n",
    "#No more colons, underscores, or https remain, so those can come out of our tokenizer, the wwws should come out as well.  \n",
    "\n",
    "raw_data=pd.read_csv('refined_training_data.csv',header=None,names=['snapshot','subreddit','label'])\n",
    "raw_data['snapshot']=raw_data['snapshot'].map(reddittokenizer.tokenize)\n",
    "#Load in data and tokenize it\n",
    "\n",
    "X_train,X_test,y_train,y_test=train_test_split(\n",
    "    raw_data['snapshot'],raw_data['label'],test_size=.4,random_state=98,\n",
    "    stratify=raw_data['label'])\n",
    "#Massive test size because, in part, we want the training size to be trainable\n",
    "#train the data, stratifying to ensure we have adequate class representation"
   ]
  },
  {
   "cell_type": "markdown",
   "metadata": {},
   "source": [
    "Initial trial runs of models, with other decisions made not directly along the lineage of our main model selection, indicated that we should consider both unigrams and bigrams.  Terms like \"red pill\" end up being quite meaningful in many model outputs, unsurprisingly, and so we wish to keep that information (though note that we don't actually with bigrams in our final top-ten features).\n",
    "\n",
    "So both unigrams and bigrams appear to be useful, bigrams creating some very useful terms, e.g. \"red pill\" while also helping to introduce more garbage.  We'll use both unigrams and bigrams but will compensate by maxing out our features in tfidfvectorizer for future investigation.  There's no obvious best amount of features to use, of course, but we can try a few cutoffs and examine the results.  A good choice here is model-dependent, but we'll for pragmatic reasons just pick one across the board; perhaps changing it during the final tuning.  Of course it could be found on a per-model basis, but that's hardly *iterative* and it's not really feasible to just hyperparameter-tune the entire space of machine learning models. \n",
    "\n",
    "Manipulating max_features here selects from term-frequency, which makes sense perhaps in this context but certainly wouldn't in general."
   ]
  },
  {
   "cell_type": "markdown",
   "metadata": {},
   "source": [
    "To determine the appropriate max_features we performed a cross-validation search over various feature sizes, avoiding sklearn's built-in GridCV in order to try to get things out of memory as quickly as possible.  The code is given below, but immediately following that we import hte results directly from the `models` folder. "
   ]
  },
  {
   "cell_type": "code",
   "execution_count": null,
   "metadata": {
    "scrolled": true
   },
   "outputs": [],
   "source": [
    "cvrs={}\n",
    "for n in [10,50,100,500,1000,10000]:\n",
    "    sweep_feature_size_pipe=imb_Pipeline(steps=[('tfidf',\n",
    "                 TfidfVectorizer(lowercase=False, max_df=.9, min_df=0.01,\n",
    "                                 #arbitrary but reasonable choices\n",
    "                                 preprocessor=identity_fxn,\n",
    "                                 token_pattern=None,max_features=n,\n",
    "                                 tokenizer=identity_fxn,ngram_range=(1,2))),  \n",
    "                                #bypass most of the tfidf processes as we've done our own tokenizing. \n",
    "                ('sampler', RandomUnderSampler(random_state=98)),\n",
    "                                                #sample down to 50/50 class balance\n",
    "                ('clf', MultinomialNB())])\n",
    "    print(n)\n",
    "    cvrs[n]=cross_validate(sweep_feature_size_pipe, X_train,y_train,scoring=('recall','f1','accuracy'),cv=3,verbose=10)"
   ]
  },
  {
   "cell_type": "code",
   "execution_count": 68,
   "metadata": {},
   "outputs": [
    {
     "data": {
      "text/html": [
       "<style  type=\"text/css\" >\n",
       "#T_5563ef6e_ed84_11ea_875b_b4d5bda8ee80row2_col0,#T_5563ef6e_ed84_11ea_875b_b4d5bda8ee80row2_col1,#T_5563ef6e_ed84_11ea_875b_b4d5bda8ee80row2_col2{\n",
       "            background-color: pink;\n",
       "        }</style><table id=\"T_5563ef6e_ed84_11ea_875b_b4d5bda8ee80\" ><thead>    <tr>        <th class=\"blank level0\" ></th>        <th class=\"col_heading level0 col0\" >mean test_accuracy</th>        <th class=\"col_heading level0 col1\" >mean test_f1</th>        <th class=\"col_heading level0 col2\" >mean test_recall</th>    </tr></thead><tbody>\n",
       "                <tr>\n",
       "                        <th id=\"T_5563ef6e_ed84_11ea_875b_b4d5bda8ee80level0_row0\" class=\"row_heading level0 row0\" >10</th>\n",
       "                        <td id=\"T_5563ef6e_ed84_11ea_875b_b4d5bda8ee80row0_col0\" class=\"data row0 col0\" >0.955814</td>\n",
       "                        <td id=\"T_5563ef6e_ed84_11ea_875b_b4d5bda8ee80row0_col1\" class=\"data row0 col1\" >0.969347</td>\n",
       "                        <td id=\"T_5563ef6e_ed84_11ea_875b_b4d5bda8ee80row0_col2\" class=\"data row0 col2\" >0.987561</td>\n",
       "            </tr>\n",
       "            <tr>\n",
       "                        <th id=\"T_5563ef6e_ed84_11ea_875b_b4d5bda8ee80level0_row1\" class=\"row_heading level0 row1\" >50</th>\n",
       "                        <td id=\"T_5563ef6e_ed84_11ea_875b_b4d5bda8ee80row1_col0\" class=\"data row1 col0\" >0.969541</td>\n",
       "                        <td id=\"T_5563ef6e_ed84_11ea_875b_b4d5bda8ee80row1_col1\" class=\"data row1 col1\" >0.978876</td>\n",
       "                        <td id=\"T_5563ef6e_ed84_11ea_875b_b4d5bda8ee80row1_col2\" class=\"data row1 col2\" >0.997591</td>\n",
       "            </tr>\n",
       "            <tr>\n",
       "                        <th id=\"T_5563ef6e_ed84_11ea_875b_b4d5bda8ee80level0_row2\" class=\"row_heading level0 row2\" >100</th>\n",
       "                        <td id=\"T_5563ef6e_ed84_11ea_875b_b4d5bda8ee80row2_col0\" class=\"data row2 col0\" >0.971555</td>\n",
       "                        <td id=\"T_5563ef6e_ed84_11ea_875b_b4d5bda8ee80row2_col1\" class=\"data row2 col1\" >0.980281</td>\n",
       "                        <td id=\"T_5563ef6e_ed84_11ea_875b_b4d5bda8ee80row2_col2\" class=\"data row2 col2\" >0.999431</td>\n",
       "            </tr>\n",
       "            <tr>\n",
       "                        <th id=\"T_5563ef6e_ed84_11ea_875b_b4d5bda8ee80level0_row3\" class=\"row_heading level0 row3\" >500</th>\n",
       "                        <td id=\"T_5563ef6e_ed84_11ea_875b_b4d5bda8ee80row3_col0\" class=\"data row3 col0\" >0.967248</td>\n",
       "                        <td id=\"T_5563ef6e_ed84_11ea_875b_b4d5bda8ee80row3_col1\" class=\"data row3 col1\" >0.977288</td>\n",
       "                        <td id=\"T_5563ef6e_ed84_11ea_875b_b4d5bda8ee80row3_col2\" class=\"data row3 col2\" >0.996058</td>\n",
       "            </tr>\n",
       "            <tr>\n",
       "                        <th id=\"T_5563ef6e_ed84_11ea_875b_b4d5bda8ee80level0_row4\" class=\"row_heading level0 row4\" >1000</th>\n",
       "                        <td id=\"T_5563ef6e_ed84_11ea_875b_b4d5bda8ee80row4_col0\" class=\"data row4 col0\" >0.958355</td>\n",
       "                        <td id=\"T_5563ef6e_ed84_11ea_875b_b4d5bda8ee80row4_col1\" class=\"data row4 col1\" >0.970991</td>\n",
       "                        <td id=\"T_5563ef6e_ed84_11ea_875b_b4d5bda8ee80row4_col2\" class=\"data row4 col2\" >0.985239</td>\n",
       "            </tr>\n",
       "            <tr>\n",
       "                        <th id=\"T_5563ef6e_ed84_11ea_875b_b4d5bda8ee80level0_row5\" class=\"row_heading level0 row5\" >10000</th>\n",
       "                        <td id=\"T_5563ef6e_ed84_11ea_875b_b4d5bda8ee80row5_col0\" class=\"data row5 col0\" >0.961826</td>\n",
       "                        <td id=\"T_5563ef6e_ed84_11ea_875b_b4d5bda8ee80row5_col1\" class=\"data row5 col1\" >0.973284</td>\n",
       "                        <td id=\"T_5563ef6e_ed84_11ea_875b_b4d5bda8ee80row5_col2\" class=\"data row5 col2\" >0.982918</td>\n",
       "            </tr>\n",
       "    </tbody></table>"
      ],
      "text/plain": [
       "<pandas.io.formats.style.Styler at 0x1637d249fc8>"
      ]
     },
     "execution_count": 68,
     "metadata": {},
     "output_type": "execute_result"
    }
   ],
   "source": [
    "with open(r'models\\max_features_sweep.p','rb') as file:\n",
    "    cvrs=pickle.load(file)\n",
    "    \n",
    "#Reorganize into a nested dict to a dataframe, doing a sweet set of list comprehensions to undo all the good will built\n",
    "#up by watching out for readability elsewhere\n",
    "cvrs_df=pd.DataFrame(\n",
    "    {k:v for k,v in sum([[((outer_key,inner_key),inner_vals) for inner_key,inner_vals in inner_dict.items()\n",
    "                          if not 'time' in inner_key] for outer_key,inner_dict in cvrs.items()],[])}\n",
    ")\n",
    "\n",
    "#display means, resisting the temptation to add .mean().unstack() to the monster we just created, \n",
    "#despite doing so being objectively funny\n",
    "mean_cvrs_df=cvrs_df.mean().unstack()\n",
    "mean_cvrs_df.columns=['mean '+s for s in mean_cvrs_df.columns]\n",
    "def highlight_max(s):\n",
    "    is_max = s == s.max()\n",
    "    #Taken from the pandas style docs\n",
    "    return ['background-color:pink' if v else '' for v in is_max]\n",
    "mean_cvrs_df.style.apply(highlight_max)"
   ]
  },
  {
   "cell_type": "markdown",
   "metadata": {},
   "source": [
    "It's quite clear that we  see very little change across the board, with even 10 features representing a reasonable mean recall rate. As long as we're giving ourselves a free pass to write absurd code though, we would like to visually see this relative insensitivity to feature-space-size:"
   ]
  },
  {
   "cell_type": "code",
   "execution_count": 70,
   "metadata": {},
   "outputs": [
    {
     "data": {
      "image/png": "[encoded data removed]",
      "text/plain": [
       "<Figure size 1152x576 with 3 Axes>"
      ]
     },
     "metadata": {
      "needs_background": "light"
     },
     "output_type": "display_data"
    }
   ],
   "source": [
    "fig,axs=plt.subplots(3,figsize=(16,8),sharey=True,sharex=True);\n",
    "[\n",
    "    (sns.barplot(x='variable_0',y='value',data=cvrs_df.melt().set_index('variable_1').loc[prop],ax=axs.ravel()[num]\n",
    "                 ,color=sns.color_palette('husl')[num%2]),\n",
    "    sns.stripplot(x='variable_0',y='value',data=cvrs_df.melt().set_index('variable_1').loc[prop]\n",
    "                  ,ax=axs.ravel()[num],color='k'),\n",
    "     axs.ravel()[num].set_xlabel('sample_size')\n",
    "     ,\n",
    "    axs.ravel()[num].set_ylabel(prop.replace('test_','validation '))\n",
    "     ,axs.ravel()[num].set_xlabel('')\n",
    "    )\n",
    "    for num,prop in enumerate(\n",
    "    ['test_'+s for s in ('recall','f1','accuracy')])]\n",
    "#Python is free and no one can stop you from doing this.\n",
    "plt.xlabel('sample size')\n",
    "plt.show()"
   ]
  },
  {
   "cell_type": "markdown",
   "metadata": {},
   "source": [
    "It's important to be able to have fun now and again, especially if your standards for fun are apparently quite low.  In the absence of any obvious better path forward, we attempt training of a model with 100 features as a limit given to the tfidf-vectorizer.  We'll bump up the minimum document frequency allowed here as well, as we expect to be dropping such features regardless and we have plenty to burn-- it would be something to check if model quality suddenly dropped, which ends up not occurring, but otherwise the hopeful gains in performance are likely worth doing what should, in principle if all else is relatively \"normal\",should be essentially equivalent to what we do immediately following that step regardless. "
   ]
  },
  {
   "cell_type": "code",
   "execution_count": null,
   "metadata": {},
   "outputs": [],
   "source": [
    "mnb_100_pipe=imb_Pipeline(steps=[('tfidf',\n",
    "                 TfidfVectorizer(lowercase=False, max_df=.9, min_df=0.05,\n",
    "                                 preprocessor=identity_fxn,\n",
    "                                 token_pattern=None,max_features=100,\n",
    "                                 tokenizer=identity_fxn,ngram_range=(1,2))),                    \n",
    "                ('sampler', RandomUnderSampler(random_state=98)),\n",
    "                ('clf', MultinomialNB())])\n",
    "\n",
    "cv_mnb_100=cross_validate(mnb_100_pipe, X_train,y_train,scoring=('recall','f1'),cv=3,verbose=100,return_estimator=True)"
   ]
  },
  {
   "cell_type": "markdown",
   "metadata": {},
   "source": [
    "<a id='heading4'></a><a id='heading5'></a>\n",
    "# Model Selection/Evaluation"
   ]
  },
  {
   "cell_type": "markdown",
   "metadata": {},
   "source": [
    "The resulting top features for all three splits were the same across all splits, or the target class this was \"white\", \"cant\", \"thats\", \"im\", and \"trump\".  For the negative class, the top predictors were \"though\", \"use\", \"better\", \"first\", and \"game\".  These can be seen by using the display function offered in the `modelling` subpackage of the `ex_id` package, called `reg_summary_table`.  For MNB, they rely on the log conditional probablities. \n",
    "\n",
    "One can offer explanations for some of these features, but that plays a heavy risk of what are derisively referred to as \"'just-so' stories\" in evolutionary biology; we'll be attempting some rationalization regardless of our derived important features but it would be worth seeing if we can get something a bit more likely-seeming.  100 is an extremely aggressive downsizing regardless, so we'll try again but with 1000 features. \n",
    "\n",
    "We do the same as above, but we drop the maximum document frequency a bit to try to keep things computation-friendly and raise the number of max features."
   ]
  },
  {
   "cell_type": "code",
   "execution_count": null,
   "metadata": {},
   "outputs": [],
   "source": [
    "mnb_1000_pipe=imb_Pipeline(steps=[('tfidf',\n",
    "                 TfidfVectorizer(lowercase=False, max_df=.8, min_df=0.05,\n",
    "                                 preprocessor=identity_fxn,\n",
    "                                 token_pattern=None,max_features=1000,\n",
    "                                 tokenizer=identity_fxn,ngram_range=(1,2))),                    \n",
    "                ('sampler', RandomUnderSampler(random_state=98)),\n",
    "                ('clf', MultinomialNB())])\n",
    "\n",
    "cv_mnb_1000=cross_validate(mnb_1000_pipe, X_train,y_train,scoring=('recall','f1'),cv=3,verbose=100,return_estimator=True)"
   ]
  },
  {
   "cell_type": "markdown",
   "metadata": {},
   "source": [
    "The results are essentially the same for the positive predictions here, though the resulting predictors for the negative class become a bit more interesting: \"feel\",\"games\",\"team\",\"play\",\"game\".  In contrast, we see here -- and notice, admittedly retroactively, a similar but weaker pattern from above-- that the *weakest* predictors for extremism in this model are \"imgur\",\"player\",\"index\",\"card\",\"relationship\".  imgur being a term that likely should have been removed from our data, but the rest being tantalizingly similar to what our negative class *was* well predicted by.  Similarly, the weakest predictors for the neutral class were \"altleft\", \"pede\", \"r/thedonald\", \"centipede\", and \"lenin\".*  \n",
    "\n",
    "This then stimulated investigation of a model already expected to be examined, namely Complement Naive Bayes.  This is similar to traditional Naive Bayes, but instead optimizes on negative predictors-- what gives the worst prediction for *not* being in the desired class-- along with a bit of a difference in smoothing.  Note there isn't a direct implication here that what was seen implies what was next investigated, just a bit of suggestive eyebrow wiggling. \n",
    "\n",
    "*\"centipede\" being a term, perhaps in vogue around that time, for fans of Donald Trump-- a good example both of fairly concentrated language and of how time-dependent some of these terms should be expected to be. "
   ]
  },
  {
   "cell_type": "code",
   "execution_count": null,
   "metadata": {},
   "outputs": [],
   "source": [
    "cnb_model=imb_Pipeline(steps=[('tfidf',\n",
    "                 TfidfVectorizer(lowercase=False, max_df=.8, min_df=0.05,\n",
    "                                 preprocessor=identity_fxn,\n",
    "                                 token_pattern=None,max_features=1000,\n",
    "                                 tokenizer=identity_fxn,ngram_range=(1,2))),                    \n",
    "                ('sampler', RandomUnderSampler(random_state=98)),\n",
    "                ('clf', ComplementNB())])\n",
    "cnb_model.fit(X_train,y_train)"
   ]
  },
  {
   "cell_type": "markdown",
   "metadata": {},
   "source": [
    "We find that our recall is still quite strong, 0.98, but that our top ten predictors for the positive class are now very respectable:  \"altleft\", \"pede\", \"r/thedonald\", \"centipede\", \"lenin\", \"maga\", \"msm\", \"kek\", \"liberalism\", and, presumably spurious, \"here\" (again, one can invent explanations but this is quite risky).  \n",
    "\n",
    "The specific language runs the already-present risk of /r/The_Donald, by far our largest representative of the positive class, having had an outsized effect on the model as a whole and hurting our results across the board.  We investigate that by passing our test data into the model again but tracking performance on a by-subreddit basis.  To facilitate all of this, the predicted and true test data labels are provided in the `models` folder."
   ]
  },
  {
   "cell_type": "code",
   "execution_count": 12,
   "metadata": {},
   "outputs": [],
   "source": [
    "y_test, y_test_hat= joblib.load(f'models\\cnm_model_test_results.joblib')\n",
    "with open('models\\y_labels.p','rb') as f:\n",
    "    y_labels=pickle.load(f)"
   ]
  },
  {
   "cell_type": "code",
   "execution_count": 82,
   "metadata": {},
   "outputs": [
    {
     "data": {
      "image/png": "[encoded data removed]",
      "text/plain": [
       "<Figure size 432x288 with 1 Axes>"
      ]
     },
     "metadata": {
      "needs_background": "light"
     },
     "output_type": "display_data"
    }
   ],
   "source": [
    "analyzed_test_data=pd.DataFrame({'subreddit':y_labels,'true':y_test,'predicted':y_test_hat})\n",
    "pos_rec_series=analyzed_test_data[analyzed_test_data.true==1].groupby('subreddit').apply(lambda g: recall_score(g.true,g.predicted))\n",
    "fig,ax=plt.subplots()\n",
    "sns.barplot(y=pos_rec_series.index,x=pos_rec_series,color=sns.color_palette('husl')[1]);\n",
    "ax.set_yticklabels([f.get_text().title() for f in ax.get_yticklabels()],ha='right')\n",
    "plt.title('Classification Success Rate\\nFor Extreme Groups')\n",
    "ax.tick_params(axis='both', labelsize=14)"
   ]
  },
  {
   "cell_type": "markdown",
   "metadata": {},
   "source": [
    "And we see that, in fact, we do perfectly for all strongly \"far left\" groups as well.  Where we do poorly are for, apologies, \"cumtown\" and \"the_redpill\" which are, respectively, subforums for a comedy podcast and a gender politics/dating strategy. So results seem promising, though the further investigations discussed in the readme are still merited.  \n",
    "\n",
    "RandomForestClassifiers, as well as linear SVMs and logistic classifiers, were also tested.  Results were the same or inferior, with important features not being more desirable.  As such, it is recommended that Complement Naive Bayes be the model used going forward. "
   ]
  },
  {
   "cell_type": "markdown",
   "metadata": {},
   "source": [
    "<a id='heading6'></a>\n",
    "# Concluding Remarks"
   ]
  },
  {
   "cell_type": "markdown",
   "metadata": {},
   "source": [
    "Overlaying all considerations with respect to this model should be the relatively poor quality of the data used.  This should be viewed as a proof-of-concept work at best, with some consideration then given to how well the concept is actually proven.  There's a few sub-concerns then. \n",
    "\n",
    "### Considering the Metric\n",
    "Recall was used here as the **quantifiable** criteria upon which we selectd our models.  As we discussed though, this was not the sole criteria used and the extremely high success rate of all models -- high enough to give reason for caution -- rendered the concern a little moot.  Why use recall as a metric though?  As is often the case, this is not decision was not made free of ambiguity.  Recalling (no pun intended) again our primary envisioned usage, what we envision is automatically profiling subforums from time to time, perhaps whenever free resources are available, and identifying those that merit closer review.  The thinking being here that, while it's not feasible for a human to personally review *every* community, it's not a particularly difficult task to do a provisional check that a community that seems potentially problematic merits closer inspection.  As such, we seek simply to ensure we're flagging for human inspection all those communities that *should* merit inspection-- hence, recall.  The downside here of course is that the vast majority of *actual* communities that are flagged will likely be false positives, but given the fuzzy topic boundaries and the envisioned use of this tool as **not** being decisive this is likely unavoidable and ultimately not too huge of an issue-- if it's clear that a given community is being mistakenly tagged as \"extreme\" then by definition that will be something obvious; by the same token it may be unclear if a given community *warrants action* but it can't really \"falsely appear\" to be extreme, to imagine a deeper phenomenon than surface charateristics here is essentially to commit a fallacy of reification.  A rose by any other name, or something similar.  \n",
    "\n",
    "It's *somewhat* illustrative to see how our model performed on our test data with respect to truly \"non-extreme\" communities.  "
   ]
  },
  {
   "cell_type": "code",
   "execution_count": 31,
   "metadata": {},
   "outputs": [
    {
     "data": {
      "text/plain": [
       "<AxesSubplot:xlabel='predicted', ylabel='count'>"
      ]
     },
     "execution_count": 31,
     "metadata": {},
     "output_type": "execute_result"
    },
    {
     "data": {
      "image/png": "[encoded data removed]",
      "text/plain": [
       "<Figure size 432x288 with 1 Axes>"
      ]
     },
     "metadata": {},
     "output_type": "display_data"
    }
   ],
   "source": [
    "test_results=pd.DataFrame({'subreddit':y_labels,'true':y_test,'predicted':y_test_hat})\n",
    "sns.countplot(\n",
    "    test_results.loc[(test_results.true==0)].predicted)"
   ]
  },
  {
   "cell_type": "markdown",
   "metadata": {},
   "source": [
    "We can see that we do in fact label most correctly -- and this is expected, as we do quite well on all metrics.  Observing just those communities mislabeled as extreme when not:"
   ]
  },
  {
   "cell_type": "code",
   "execution_count": 98,
   "metadata": {
    "scrolled": true
   },
   "outputs": [
    {
     "data": {
      "text/html": [
       "<style  type=\"text/css\" >\n",
       "#T_4d29abe4_f169_11ea_93da_b4d5bda8ee80row0_col0,#T_4d29abe4_f169_11ea_93da_b4d5bda8ee80row0_col1,#T_4d29abe4_f169_11ea_93da_b4d5bda8ee80row0_col2,#T_4d29abe4_f169_11ea_93da_b4d5bda8ee80row0_col3,#T_4d29abe4_f169_11ea_93da_b4d5bda8ee80row0_col4,#T_4d29abe4_f169_11ea_93da_b4d5bda8ee80row2_col0,#T_4d29abe4_f169_11ea_93da_b4d5bda8ee80row2_col1,#T_4d29abe4_f169_11ea_93da_b4d5bda8ee80row2_col2,#T_4d29abe4_f169_11ea_93da_b4d5bda8ee80row2_col3,#T_4d29abe4_f169_11ea_93da_b4d5bda8ee80row2_col4,#T_4d29abe4_f169_11ea_93da_b4d5bda8ee80row4_col0,#T_4d29abe4_f169_11ea_93da_b4d5bda8ee80row4_col1,#T_4d29abe4_f169_11ea_93da_b4d5bda8ee80row4_col2,#T_4d29abe4_f169_11ea_93da_b4d5bda8ee80row4_col3,#T_4d29abe4_f169_11ea_93da_b4d5bda8ee80row4_col4,#T_4d29abe4_f169_11ea_93da_b4d5bda8ee80row6_col0,#T_4d29abe4_f169_11ea_93da_b4d5bda8ee80row6_col1,#T_4d29abe4_f169_11ea_93da_b4d5bda8ee80row6_col2,#T_4d29abe4_f169_11ea_93da_b4d5bda8ee80row6_col3,#T_4d29abe4_f169_11ea_93da_b4d5bda8ee80row6_col4,#T_4d29abe4_f169_11ea_93da_b4d5bda8ee80row8_col0,#T_4d29abe4_f169_11ea_93da_b4d5bda8ee80row8_col1,#T_4d29abe4_f169_11ea_93da_b4d5bda8ee80row8_col2,#T_4d29abe4_f169_11ea_93da_b4d5bda8ee80row8_col3,#T_4d29abe4_f169_11ea_93da_b4d5bda8ee80row8_col4,#T_4d29abe4_f169_11ea_93da_b4d5bda8ee80row10_col0,#T_4d29abe4_f169_11ea_93da_b4d5bda8ee80row10_col1,#T_4d29abe4_f169_11ea_93da_b4d5bda8ee80row10_col2,#T_4d29abe4_f169_11ea_93da_b4d5bda8ee80row10_col3,#T_4d29abe4_f169_11ea_93da_b4d5bda8ee80row10_col4,#T_4d29abe4_f169_11ea_93da_b4d5bda8ee80row12_col0,#T_4d29abe4_f169_11ea_93da_b4d5bda8ee80row12_col1,#T_4d29abe4_f169_11ea_93da_b4d5bda8ee80row12_col2,#T_4d29abe4_f169_11ea_93da_b4d5bda8ee80row12_col3,#T_4d29abe4_f169_11ea_93da_b4d5bda8ee80row12_col4,#T_4d29abe4_f169_11ea_93da_b4d5bda8ee80row14_col0,#T_4d29abe4_f169_11ea_93da_b4d5bda8ee80row14_col1,#T_4d29abe4_f169_11ea_93da_b4d5bda8ee80row14_col2,#T_4d29abe4_f169_11ea_93da_b4d5bda8ee80row14_col3,#T_4d29abe4_f169_11ea_93da_b4d5bda8ee80row14_col4,#T_4d29abe4_f169_11ea_93da_b4d5bda8ee80row16_col0,#T_4d29abe4_f169_11ea_93da_b4d5bda8ee80row16_col1,#T_4d29abe4_f169_11ea_93da_b4d5bda8ee80row16_col2,#T_4d29abe4_f169_11ea_93da_b4d5bda8ee80row16_col3,#T_4d29abe4_f169_11ea_93da_b4d5bda8ee80row16_col4,#T_4d29abe4_f169_11ea_93da_b4d5bda8ee80row18_col0,#T_4d29abe4_f169_11ea_93da_b4d5bda8ee80row18_col1,#T_4d29abe4_f169_11ea_93da_b4d5bda8ee80row18_col2,#T_4d29abe4_f169_11ea_93da_b4d5bda8ee80row18_col3,#T_4d29abe4_f169_11ea_93da_b4d5bda8ee80row18_col4,#T_4d29abe4_f169_11ea_93da_b4d5bda8ee80row20_col0,#T_4d29abe4_f169_11ea_93da_b4d5bda8ee80row20_col1,#T_4d29abe4_f169_11ea_93da_b4d5bda8ee80row20_col2,#T_4d29abe4_f169_11ea_93da_b4d5bda8ee80row20_col3,#T_4d29abe4_f169_11ea_93da_b4d5bda8ee80row20_col4,#T_4d29abe4_f169_11ea_93da_b4d5bda8ee80row22_col0,#T_4d29abe4_f169_11ea_93da_b4d5bda8ee80row22_col1,#T_4d29abe4_f169_11ea_93da_b4d5bda8ee80row22_col2,#T_4d29abe4_f169_11ea_93da_b4d5bda8ee80row22_col3,#T_4d29abe4_f169_11ea_93da_b4d5bda8ee80row22_col4,#T_4d29abe4_f169_11ea_93da_b4d5bda8ee80row24_col0,#T_4d29abe4_f169_11ea_93da_b4d5bda8ee80row24_col1,#T_4d29abe4_f169_11ea_93da_b4d5bda8ee80row24_col2,#T_4d29abe4_f169_11ea_93da_b4d5bda8ee80row24_col3,#T_4d29abe4_f169_11ea_93da_b4d5bda8ee80row24_col4,#T_4d29abe4_f169_11ea_93da_b4d5bda8ee80row26_col0,#T_4d29abe4_f169_11ea_93da_b4d5bda8ee80row26_col1,#T_4d29abe4_f169_11ea_93da_b4d5bda8ee80row26_col2,#T_4d29abe4_f169_11ea_93da_b4d5bda8ee80row26_col3,#T_4d29abe4_f169_11ea_93da_b4d5bda8ee80row26_col4,#T_4d29abe4_f169_11ea_93da_b4d5bda8ee80row28_col0,#T_4d29abe4_f169_11ea_93da_b4d5bda8ee80row28_col1,#T_4d29abe4_f169_11ea_93da_b4d5bda8ee80row28_col2,#T_4d29abe4_f169_11ea_93da_b4d5bda8ee80row28_col3,#T_4d29abe4_f169_11ea_93da_b4d5bda8ee80row28_col4{\n",
       "            background:  white;\n",
       "        }#T_4d29abe4_f169_11ea_93da_b4d5bda8ee80row1_col0,#T_4d29abe4_f169_11ea_93da_b4d5bda8ee80row1_col1,#T_4d29abe4_f169_11ea_93da_b4d5bda8ee80row1_col2,#T_4d29abe4_f169_11ea_93da_b4d5bda8ee80row1_col3,#T_4d29abe4_f169_11ea_93da_b4d5bda8ee80row1_col4,#T_4d29abe4_f169_11ea_93da_b4d5bda8ee80row3_col0,#T_4d29abe4_f169_11ea_93da_b4d5bda8ee80row3_col1,#T_4d29abe4_f169_11ea_93da_b4d5bda8ee80row3_col2,#T_4d29abe4_f169_11ea_93da_b4d5bda8ee80row3_col3,#T_4d29abe4_f169_11ea_93da_b4d5bda8ee80row3_col4,#T_4d29abe4_f169_11ea_93da_b4d5bda8ee80row5_col0,#T_4d29abe4_f169_11ea_93da_b4d5bda8ee80row5_col1,#T_4d29abe4_f169_11ea_93da_b4d5bda8ee80row5_col2,#T_4d29abe4_f169_11ea_93da_b4d5bda8ee80row5_col3,#T_4d29abe4_f169_11ea_93da_b4d5bda8ee80row5_col4,#T_4d29abe4_f169_11ea_93da_b4d5bda8ee80row7_col0,#T_4d29abe4_f169_11ea_93da_b4d5bda8ee80row7_col1,#T_4d29abe4_f169_11ea_93da_b4d5bda8ee80row7_col2,#T_4d29abe4_f169_11ea_93da_b4d5bda8ee80row7_col3,#T_4d29abe4_f169_11ea_93da_b4d5bda8ee80row7_col4,#T_4d29abe4_f169_11ea_93da_b4d5bda8ee80row9_col0,#T_4d29abe4_f169_11ea_93da_b4d5bda8ee80row9_col1,#T_4d29abe4_f169_11ea_93da_b4d5bda8ee80row9_col2,#T_4d29abe4_f169_11ea_93da_b4d5bda8ee80row9_col3,#T_4d29abe4_f169_11ea_93da_b4d5bda8ee80row9_col4,#T_4d29abe4_f169_11ea_93da_b4d5bda8ee80row11_col0,#T_4d29abe4_f169_11ea_93da_b4d5bda8ee80row11_col1,#T_4d29abe4_f169_11ea_93da_b4d5bda8ee80row11_col2,#T_4d29abe4_f169_11ea_93da_b4d5bda8ee80row11_col3,#T_4d29abe4_f169_11ea_93da_b4d5bda8ee80row11_col4,#T_4d29abe4_f169_11ea_93da_b4d5bda8ee80row13_col0,#T_4d29abe4_f169_11ea_93da_b4d5bda8ee80row13_col1,#T_4d29abe4_f169_11ea_93da_b4d5bda8ee80row13_col2,#T_4d29abe4_f169_11ea_93da_b4d5bda8ee80row13_col3,#T_4d29abe4_f169_11ea_93da_b4d5bda8ee80row13_col4,#T_4d29abe4_f169_11ea_93da_b4d5bda8ee80row15_col0,#T_4d29abe4_f169_11ea_93da_b4d5bda8ee80row15_col1,#T_4d29abe4_f169_11ea_93da_b4d5bda8ee80row15_col2,#T_4d29abe4_f169_11ea_93da_b4d5bda8ee80row15_col3,#T_4d29abe4_f169_11ea_93da_b4d5bda8ee80row15_col4,#T_4d29abe4_f169_11ea_93da_b4d5bda8ee80row17_col0,#T_4d29abe4_f169_11ea_93da_b4d5bda8ee80row17_col1,#T_4d29abe4_f169_11ea_93da_b4d5bda8ee80row17_col2,#T_4d29abe4_f169_11ea_93da_b4d5bda8ee80row17_col3,#T_4d29abe4_f169_11ea_93da_b4d5bda8ee80row17_col4,#T_4d29abe4_f169_11ea_93da_b4d5bda8ee80row19_col0,#T_4d29abe4_f169_11ea_93da_b4d5bda8ee80row19_col1,#T_4d29abe4_f169_11ea_93da_b4d5bda8ee80row19_col2,#T_4d29abe4_f169_11ea_93da_b4d5bda8ee80row19_col3,#T_4d29abe4_f169_11ea_93da_b4d5bda8ee80row19_col4,#T_4d29abe4_f169_11ea_93da_b4d5bda8ee80row21_col0,#T_4d29abe4_f169_11ea_93da_b4d5bda8ee80row21_col1,#T_4d29abe4_f169_11ea_93da_b4d5bda8ee80row21_col2,#T_4d29abe4_f169_11ea_93da_b4d5bda8ee80row21_col3,#T_4d29abe4_f169_11ea_93da_b4d5bda8ee80row21_col4,#T_4d29abe4_f169_11ea_93da_b4d5bda8ee80row23_col0,#T_4d29abe4_f169_11ea_93da_b4d5bda8ee80row23_col1,#T_4d29abe4_f169_11ea_93da_b4d5bda8ee80row23_col2,#T_4d29abe4_f169_11ea_93da_b4d5bda8ee80row23_col3,#T_4d29abe4_f169_11ea_93da_b4d5bda8ee80row23_col4,#T_4d29abe4_f169_11ea_93da_b4d5bda8ee80row25_col0,#T_4d29abe4_f169_11ea_93da_b4d5bda8ee80row25_col1,#T_4d29abe4_f169_11ea_93da_b4d5bda8ee80row25_col2,#T_4d29abe4_f169_11ea_93da_b4d5bda8ee80row25_col3,#T_4d29abe4_f169_11ea_93da_b4d5bda8ee80row25_col4,#T_4d29abe4_f169_11ea_93da_b4d5bda8ee80row27_col0,#T_4d29abe4_f169_11ea_93da_b4d5bda8ee80row27_col1,#T_4d29abe4_f169_11ea_93da_b4d5bda8ee80row27_col2,#T_4d29abe4_f169_11ea_93da_b4d5bda8ee80row27_col3,#T_4d29abe4_f169_11ea_93da_b4d5bda8ee80row27_col4,#T_4d29abe4_f169_11ea_93da_b4d5bda8ee80row29_col0,#T_4d29abe4_f169_11ea_93da_b4d5bda8ee80row29_col1,#T_4d29abe4_f169_11ea_93da_b4d5bda8ee80row29_col2,#T_4d29abe4_f169_11ea_93da_b4d5bda8ee80row29_col3,#T_4d29abe4_f169_11ea_93da_b4d5bda8ee80row29_col4{\n",
       "            background:  lightpink;\n",
       "        }</style><table id=\"T_4d29abe4_f169_11ea_93da_b4d5bda8ee80\" ><caption>Misclassified Subreddits</caption><thead>    <tr>        <th class=\"col_heading level0 col0\" >0</th>        <th class=\"col_heading level0 col1\" >1</th>        <th class=\"col_heading level0 col2\" >2</th>        <th class=\"col_heading level0 col3\" >3</th>        <th class=\"col_heading level0 col4\" >4</th>    </tr></thead><tbody>\n",
       "                <tr>\n",
       "                                <td id=\"T_4d29abe4_f169_11ea_93da_b4d5bda8ee80row0_col0\" class=\"data row0 col0\" >STOPBEINGEVIL</td>\n",
       "                        <td id=\"T_4d29abe4_f169_11ea_93da_b4d5bda8ee80row0_col1\" class=\"data row0 col1\" >ICEPOSEIDON</td>\n",
       "                        <td id=\"T_4d29abe4_f169_11ea_93da_b4d5bda8ee80row0_col2\" class=\"data row0 col2\" >WORLDNEWS</td>\n",
       "                        <td id=\"T_4d29abe4_f169_11ea_93da_b4d5bda8ee80row0_col3\" class=\"data row0 col3\" >NEWS</td>\n",
       "                        <td id=\"T_4d29abe4_f169_11ea_93da_b4d5bda8ee80row0_col4\" class=\"data row0 col4\" >MAPPORN</td>\n",
       "            </tr>\n",
       "            <tr>\n",
       "                                <td id=\"T_4d29abe4_f169_11ea_93da_b4d5bda8ee80row1_col0\" class=\"data row1 col0\" >THEDOTARD</td>\n",
       "                        <td id=\"T_4d29abe4_f169_11ea_93da_b4d5bda8ee80row1_col1\" class=\"data row1 col1\" >PICS</td>\n",
       "                        <td id=\"T_4d29abe4_f169_11ea_93da_b4d5bda8ee80row1_col2\" class=\"data row1 col2\" >POLITICS</td>\n",
       "                        <td id=\"T_4d29abe4_f169_11ea_93da_b4d5bda8ee80row1_col3\" class=\"data row1 col3\" >INCELS</td>\n",
       "                        <td id=\"T_4d29abe4_f169_11ea_93da_b4d5bda8ee80row1_col4\" class=\"data row1 col4\" >ADVICEANIMALS</td>\n",
       "            </tr>\n",
       "            <tr>\n",
       "                                <td id=\"T_4d29abe4_f169_11ea_93da_b4d5bda8ee80row2_col0\" class=\"data row2 col0\" >ASKLEO</td>\n",
       "                        <td id=\"T_4d29abe4_f169_11ea_93da_b4d5bda8ee80row2_col1\" class=\"data row2 col1\" >TOPMINDSOFREDDIT</td>\n",
       "                        <td id=\"T_4d29abe4_f169_11ea_93da_b4d5bda8ee80row2_col2\" class=\"data row2 col2\" >TUMBLRINACTION</td>\n",
       "                        <td id=\"T_4d29abe4_f169_11ea_93da_b4d5bda8ee80row2_col3\" class=\"data row2 col3\" >CONSPIRACY</td>\n",
       "                        <td id=\"T_4d29abe4_f169_11ea_93da_b4d5bda8ee80row2_col4\" class=\"data row2 col4\" >HAPAS</td>\n",
       "            </tr>\n",
       "            <tr>\n",
       "                                <td id=\"T_4d29abe4_f169_11ea_93da_b4d5bda8ee80row3_col0\" class=\"data row3 col0\" >TODAYILEARNED</td>\n",
       "                        <td id=\"T_4d29abe4_f169_11ea_93da_b4d5bda8ee80row3_col1\" class=\"data row3 col1\" >EUROPE</td>\n",
       "                        <td id=\"T_4d29abe4_f169_11ea_93da_b4d5bda8ee80row3_col2\" class=\"data row3 col2\" >UKPOLITICS</td>\n",
       "                        <td id=\"T_4d29abe4_f169_11ea_93da_b4d5bda8ee80row3_col3\" class=\"data row3 col3\" >OLDSCHOOLCOOL</td>\n",
       "                        <td id=\"T_4d29abe4_f169_11ea_93da_b4d5bda8ee80row3_col4\" class=\"data row3 col4\" >GAMERGHAZI</td>\n",
       "            </tr>\n",
       "            <tr>\n",
       "                                <td id=\"T_4d29abe4_f169_11ea_93da_b4d5bda8ee80row4_col0\" class=\"data row4 col0\" >ASKTHEDONALD</td>\n",
       "                        <td id=\"T_4d29abe4_f169_11ea_93da_b4d5bda8ee80row4_col1\" class=\"data row4 col1\" >BLUEMIDTERM2018</td>\n",
       "                        <td id=\"T_4d29abe4_f169_11ea_93da_b4d5bda8ee80row4_col2\" class=\"data row4 col2\" >SLATESTARCODEX</td>\n",
       "                        <td id=\"T_4d29abe4_f169_11ea_93da_b4d5bda8ee80row4_col3\" class=\"data row4 col3\" >WELLTHATSUCKS</td>\n",
       "                        <td id=\"T_4d29abe4_f169_11ea_93da_b4d5bda8ee80row4_col4\" class=\"data row4 col4\" >ASKANAMERICAN</td>\n",
       "            </tr>\n",
       "            <tr>\n",
       "                                <td id=\"T_4d29abe4_f169_11ea_93da_b4d5bda8ee80row5_col0\" class=\"data row5 col0\" >IAMVERYSMART</td>\n",
       "                        <td id=\"T_4d29abe4_f169_11ea_93da_b4d5bda8ee80row5_col1\" class=\"data row5 col1\" >FORWARDSFROMGRANDMA</td>\n",
       "                        <td id=\"T_4d29abe4_f169_11ea_93da_b4d5bda8ee80row5_col2\" class=\"data row5 col2\" >POLITICALHUMOR</td>\n",
       "                        <td id=\"T_4d29abe4_f169_11ea_93da_b4d5bda8ee80row5_col3\" class=\"data row5 col3\" >WAYOFTHEBERN</td>\n",
       "                        <td id=\"T_4d29abe4_f169_11ea_93da_b4d5bda8ee80row5_col4\" class=\"data row5 col4\" >BEER</td>\n",
       "            </tr>\n",
       "            <tr>\n",
       "                                <td id=\"T_4d29abe4_f169_11ea_93da_b4d5bda8ee80row6_col0\" class=\"data row6 col0\" >CRINGEANARCHY</td>\n",
       "                        <td id=\"T_4d29abe4_f169_11ea_93da_b4d5bda8ee80row6_col1\" class=\"data row6 col1\" >NEWZEALAND</td>\n",
       "                        <td id=\"T_4d29abe4_f169_11ea_93da_b4d5bda8ee80row6_col2\" class=\"data row6 col2\" >DRAMA</td>\n",
       "                        <td id=\"T_4d29abe4_f169_11ea_93da_b4d5bda8ee80row6_col3\" class=\"data row6 col3\" >KERALA</td>\n",
       "                        <td id=\"T_4d29abe4_f169_11ea_93da_b4d5bda8ee80row6_col4\" class=\"data row6 col4\" >AUSTRALIA</td>\n",
       "            </tr>\n",
       "            <tr>\n",
       "                                <td id=\"T_4d29abe4_f169_11ea_93da_b4d5bda8ee80row7_col0\" class=\"data row7 col0\" >UNDELETE</td>\n",
       "                        <td id=\"T_4d29abe4_f169_11ea_93da_b4d5bda8ee80row7_col1\" class=\"data row7 col1\" >TECHNOLOGY</td>\n",
       "                        <td id=\"T_4d29abe4_f169_11ea_93da_b4d5bda8ee80row7_col2\" class=\"data row7 col2\" >LASTWEEKTONIGHT</td>\n",
       "                        <td id=\"T_4d29abe4_f169_11ea_93da_b4d5bda8ee80row7_col3\" class=\"data row7 col3\" >SAMHARRIS</td>\n",
       "                        <td id=\"T_4d29abe4_f169_11ea_93da_b4d5bda8ee80row7_col4\" class=\"data row7 col4\" >CANADA</td>\n",
       "            </tr>\n",
       "            <tr>\n",
       "                                <td id=\"T_4d29abe4_f169_11ea_93da_b4d5bda8ee80row8_col0\" class=\"data row8 col0\" >CONSERVATIVE</td>\n",
       "                        <td id=\"T_4d29abe4_f169_11ea_93da_b4d5bda8ee80row8_col1\" class=\"data row8 col1\" >SUBREDDITDRAMA</td>\n",
       "                        <td id=\"T_4d29abe4_f169_11ea_93da_b4d5bda8ee80row8_col2\" class=\"data row8 col2\" >JOEROGAN</td>\n",
       "                        <td id=\"T_4d29abe4_f169_11ea_93da_b4d5bda8ee80row8_col3\" class=\"data row8 col3\" >UNCENSOREDNEWS</td>\n",
       "                        <td id=\"T_4d29abe4_f169_11ea_93da_b4d5bda8ee80row8_col4\" class=\"data row8 col4\" >POLANDBALL</td>\n",
       "            </tr>\n",
       "            <tr>\n",
       "                                <td id=\"T_4d29abe4_f169_11ea_93da_b4d5bda8ee80row9_col0\" class=\"data row9 col0\" >HILLARYCLINTON</td>\n",
       "                        <td id=\"T_4d29abe4_f169_11ea_93da_b4d5bda8ee80row9_col1\" class=\"data row9 col1\" >IMPEACHTRUMP</td>\n",
       "                        <td id=\"T_4d29abe4_f169_11ea_93da_b4d5bda8ee80row9_col2\" class=\"data row9 col2\" >BEHOLDTHEMASTERRACE</td>\n",
       "                        <td id=\"T_4d29abe4_f169_11ea_93da_b4d5bda8ee80row9_col3\" class=\"data row9 col3\" >BESTOF</td>\n",
       "                        <td id=\"T_4d29abe4_f169_11ea_93da_b4d5bda8ee80row9_col4\" class=\"data row9 col4\" >SYRIANCIVILWAR</td>\n",
       "            </tr>\n",
       "            <tr>\n",
       "                                <td id=\"T_4d29abe4_f169_11ea_93da_b4d5bda8ee80row10_col0\" class=\"data row10 col0\" >COLUMBUS</td>\n",
       "                        <td id=\"T_4d29abe4_f169_11ea_93da_b4d5bda8ee80row10_col1\" class=\"data row10 col1\" >DATAISBEAUTIFUL</td>\n",
       "                        <td id=\"T_4d29abe4_f169_11ea_93da_b4d5bda8ee80row10_col2\" class=\"data row10 col2\" >NOTTHEONION</td>\n",
       "                        <td id=\"T_4d29abe4_f169_11ea_93da_b4d5bda8ee80row10_col3\" class=\"data row10 col3\" >DISCORDAPP</td>\n",
       "                        <td id=\"T_4d29abe4_f169_11ea_93da_b4d5bda8ee80row10_col4\" class=\"data row10 col4\" >UNITEDKINGDOM</td>\n",
       "            </tr>\n",
       "            <tr>\n",
       "                                <td id=\"T_4d29abe4_f169_11ea_93da_b4d5bda8ee80row11_col0\" class=\"data row11 col0\" >MURICA</td>\n",
       "                        <td id=\"T_4d29abe4_f169_11ea_93da_b4d5bda8ee80row11_col1\" class=\"data row11 col1\" >POTUSWATCH</td>\n",
       "                        <td id=\"T_4d29abe4_f169_11ea_93da_b4d5bda8ee80row11_col2\" class=\"data row11 col2\" >BREALISM</td>\n",
       "                        <td id=\"T_4d29abe4_f169_11ea_93da_b4d5bda8ee80row11_col3\" class=\"data row11 col3\" >MGTOW</td>\n",
       "                        <td id=\"T_4d29abe4_f169_11ea_93da_b4d5bda8ee80row11_col4\" class=\"data row11 col4\" >MHOC</td>\n",
       "            </tr>\n",
       "            <tr>\n",
       "                                <td id=\"T_4d29abe4_f169_11ea_93da_b4d5bda8ee80row12_col0\" class=\"data row12 col0\" >ATHEISM</td>\n",
       "                        <td id=\"T_4d29abe4_f169_11ea_93da_b4d5bda8ee80row12_col1\" class=\"data row12 col1\" >KOTAKUINACTION</td>\n",
       "                        <td id=\"T_4d29abe4_f169_11ea_93da_b4d5bda8ee80row12_col2\" class=\"data row12 col2\" >BAYSTARS</td>\n",
       "                        <td id=\"T_4d29abe4_f169_11ea_93da_b4d5bda8ee80row12_col3\" class=\"data row12 col3\" >BLACKPEOPLETWITTER</td>\n",
       "                        <td id=\"T_4d29abe4_f169_11ea_93da_b4d5bda8ee80row12_col4\" class=\"data row12 col4\" >QUITYOURBULLSHIT</td>\n",
       "            </tr>\n",
       "            <tr>\n",
       "                                <td id=\"T_4d29abe4_f169_11ea_93da_b4d5bda8ee80row13_col0\" class=\"data row13 col0\" >UNPOPULAROPINION</td>\n",
       "                        <td id=\"T_4d29abe4_f169_11ea_93da_b4d5bda8ee80row13_col1\" class=\"data row13 col1\" >CHANGEMYVIEW</td>\n",
       "                        <td id=\"T_4d29abe4_f169_11ea_93da_b4d5bda8ee80row13_col2\" class=\"data row13 col2\" >POLITICALDISCUSSION</td>\n",
       "                        <td id=\"T_4d29abe4_f169_11ea_93da_b4d5bda8ee80row13_col3\" class=\"data row13 col3\" >TECH</td>\n",
       "                        <td id=\"T_4d29abe4_f169_11ea_93da_b4d5bda8ee80row13_col4\" class=\"data row13 col4\" >REACTIONGIFS</td>\n",
       "            </tr>\n",
       "            <tr>\n",
       "                                <td id=\"T_4d29abe4_f169_11ea_93da_b4d5bda8ee80row14_col0\" class=\"data row14 col0\" >ASKTRUMPSUPPORTERS</td>\n",
       "                        <td id=\"T_4d29abe4_f169_11ea_93da_b4d5bda8ee80row14_col1\" class=\"data row14 col1\" >CRITICALTHEORY</td>\n",
       "                        <td id=\"T_4d29abe4_f169_11ea_93da_b4d5bda8ee80row14_col2\" class=\"data row14 col2\" >ENOUGHSANDERSSPAM</td>\n",
       "                        <td id=\"T_4d29abe4_f169_11ea_93da_b4d5bda8ee80row14_col3\" class=\"data row14 col3\" >POLITICALVIDEO</td>\n",
       "                        <td id=\"T_4d29abe4_f169_11ea_93da_b4d5bda8ee80row14_col4\" class=\"data row14 col4\" >PUBLICFREAKOUT</td>\n",
       "            </tr>\n",
       "            <tr>\n",
       "                                <td id=\"T_4d29abe4_f169_11ea_93da_b4d5bda8ee80row15_col0\" class=\"data row15 col0\" >ASKEUROPE</td>\n",
       "                        <td id=\"T_4d29abe4_f169_11ea_93da_b4d5bda8ee80row15_col1\" class=\"data row15 col1\" >WHOLESOMEMEMES</td>\n",
       "                        <td id=\"T_4d29abe4_f169_11ea_93da_b4d5bda8ee80row15_col2\" class=\"data row15 col2\" >IRELAND</td>\n",
       "                        <td id=\"T_4d29abe4_f169_11ea_93da_b4d5bda8ee80row15_col3\" class=\"data row15 col3\" >TEXAS</td>\n",
       "                        <td id=\"T_4d29abe4_f169_11ea_93da_b4d5bda8ee80row15_col4\" class=\"data row15 col4\" >DEBATEALTRIGHT</td>\n",
       "            </tr>\n",
       "            <tr>\n",
       "                                <td id=\"T_4d29abe4_f169_11ea_93da_b4d5bda8ee80row16_col0\" class=\"data row16 col0\" >OFFICIALDP</td>\n",
       "                        <td id=\"T_4d29abe4_f169_11ea_93da_b4d5bda8ee80row16_col1\" class=\"data row16 col1\" >ESIST</td>\n",
       "                        <td id=\"T_4d29abe4_f169_11ea_93da_b4d5bda8ee80row16_col2\" class=\"data row16 col2\" >4CHAN</td>\n",
       "                        <td id=\"T_4d29abe4_f169_11ea_93da_b4d5bda8ee80row16_col3\" class=\"data row16 col3\" >LIBERALLOGIC101</td>\n",
       "                        <td id=\"T_4d29abe4_f169_11ea_93da_b4d5bda8ee80row16_col4\" class=\"data row16 col4\" >FUNNYANDSAD</td>\n",
       "            </tr>\n",
       "            <tr>\n",
       "                                <td id=\"T_4d29abe4_f169_11ea_93da_b4d5bda8ee80row17_col0\" class=\"data row17 col0\" >ANARCHISM</td>\n",
       "                        <td id=\"T_4d29abe4_f169_11ea_93da_b4d5bda8ee80row17_col1\" class=\"data row17 col1\" >ISRAEL</td>\n",
       "                        <td id=\"T_4d29abe4_f169_11ea_93da_b4d5bda8ee80row17_col2\" class=\"data row17 col2\" >DOCUMENTARIES</td>\n",
       "                        <td id=\"T_4d29abe4_f169_11ea_93da_b4d5bda8ee80row17_col3\" class=\"data row17 col3\" >JUSTICESERVED</td>\n",
       "                        <td id=\"T_4d29abe4_f169_11ea_93da_b4d5bda8ee80row17_col4\" class=\"data row17 col4\" >CRAZYIDEAS</td>\n",
       "            </tr>\n",
       "            <tr>\n",
       "                                <td id=\"T_4d29abe4_f169_11ea_93da_b4d5bda8ee80row18_col0\" class=\"data row18 col0\" >ANARCHOCAPITALISM</td>\n",
       "                        <td id=\"T_4d29abe4_f169_11ea_93da_b4d5bda8ee80row18_col1\" class=\"data row18 col1\" >TRUEREDDIT</td>\n",
       "                        <td id=\"T_4d29abe4_f169_11ea_93da_b4d5bda8ee80row18_col2\" class=\"data row18 col2\" >LIBERTARIAN</td>\n",
       "                        <td id=\"T_4d29abe4_f169_11ea_93da_b4d5bda8ee80row18_col3\" class=\"data row18 col3\" >INTHEMORNING</td>\n",
       "                        <td id=\"T_4d29abe4_f169_11ea_93da_b4d5bda8ee80row18_col4\" class=\"data row18 col4\" >BLACKFELLAS</td>\n",
       "            </tr>\n",
       "            <tr>\n",
       "                                <td id=\"T_4d29abe4_f169_11ea_93da_b4d5bda8ee80row19_col0\" class=\"data row19 col0\" >ENTP</td>\n",
       "                        <td id=\"T_4d29abe4_f169_11ea_93da_b4d5bda8ee80row19_col1\" class=\"data row19 col1\" >CANADAPOLITICS</td>\n",
       "                        <td id=\"T_4d29abe4_f169_11ea_93da_b4d5bda8ee80row19_col2\" class=\"data row19 col2\" >PUSSYPASSDENIED</td>\n",
       "                        <td id=\"T_4d29abe4_f169_11ea_93da_b4d5bda8ee80row19_col3\" class=\"data row19 col3\" >TELEVISION</td>\n",
       "                        <td id=\"T_4d29abe4_f169_11ea_93da_b4d5bda8ee80row19_col4\" class=\"data row19 col4\" >ENVIRONMENT</td>\n",
       "            </tr>\n",
       "            <tr>\n",
       "                                <td id=\"T_4d29abe4_f169_11ea_93da_b4d5bda8ee80row20_col0\" class=\"data row20 col0\" >TRASHY</td>\n",
       "                        <td id=\"T_4d29abe4_f169_11ea_93da_b4d5bda8ee80row20_col1\" class=\"data row20 col1\" >PROGRESSIVE</td>\n",
       "                        <td id=\"T_4d29abe4_f169_11ea_93da_b4d5bda8ee80row20_col2\" class=\"data row20 col2\" >HISTORY</td>\n",
       "                        <td id=\"T_4d29abe4_f169_11ea_93da_b4d5bda8ee80row20_col3\" class=\"data row20 col3\" >UWASHINGTONPOST</td>\n",
       "                        <td id=\"T_4d29abe4_f169_11ea_93da_b4d5bda8ee80row20_col4\" class=\"data row20 col4\" >SHITLIBERALSSAY</td>\n",
       "            </tr>\n",
       "            <tr>\n",
       "                                <td id=\"T_4d29abe4_f169_11ea_93da_b4d5bda8ee80row21_col0\" class=\"data row21 col0\" >MORBIDREALITY</td>\n",
       "                        <td id=\"T_4d29abe4_f169_11ea_93da_b4d5bda8ee80row21_col1\" class=\"data row21 col1\" >ASKREDDIT</td>\n",
       "                        <td id=\"T_4d29abe4_f169_11ea_93da_b4d5bda8ee80row21_col2\" class=\"data row21 col2\" >STLOUIS</td>\n",
       "                        <td id=\"T_4d29abe4_f169_11ea_93da_b4d5bda8ee80row21_col3\" class=\"data row21 col3\" >SOCIALJUSTICEINACTION</td>\n",
       "                        <td id=\"T_4d29abe4_f169_11ea_93da_b4d5bda8ee80row21_col4\" class=\"data row21 col4\" >INDIA</td>\n",
       "            </tr>\n",
       "            <tr>\n",
       "                                <td id=\"T_4d29abe4_f169_11ea_93da_b4d5bda8ee80row22_col0\" class=\"data row22 col0\" >ASIANANDY</td>\n",
       "                        <td id=\"T_4d29abe4_f169_11ea_93da_b4d5bda8ee80row22_col1\" class=\"data row22 col1\" >ALABAMA</td>\n",
       "                        <td id=\"T_4d29abe4_f169_11ea_93da_b4d5bda8ee80row22_col2\" class=\"data row22 col2\" >POLITICALREVOLUTION</td>\n",
       "                        <td id=\"T_4d29abe4_f169_11ea_93da_b4d5bda8ee80row22_col3\" class=\"data row22 col3\" >BASEBALL</td>\n",
       "                        <td id=\"T_4d29abe4_f169_11ea_93da_b4d5bda8ee80row22_col4\" class=\"data row22 col4\" >ENOUGHTRUMPSPAM</td>\n",
       "            </tr>\n",
       "            <tr>\n",
       "                                <td id=\"T_4d29abe4_f169_11ea_93da_b4d5bda8ee80row23_col0\" class=\"data row23 col0\" >POLITIC</td>\n",
       "                        <td id=\"T_4d29abe4_f169_11ea_93da_b4d5bda8ee80row23_col1\" class=\"data row23 col1\" >COMPLETEANARCHY</td>\n",
       "                        <td id=\"T_4d29abe4_f169_11ea_93da_b4d5bda8ee80row23_col2\" class=\"data row23 col2\" >IAMA</td>\n",
       "                        <td id=\"T_4d29abe4_f169_11ea_93da_b4d5bda8ee80row23_col3\" class=\"data row23 col3\" >AZNIDENTITY</td>\n",
       "                        <td id=\"T_4d29abe4_f169_11ea_93da_b4d5bda8ee80row23_col4\" class=\"data row23 col4\" >AGAINSTHATESUBREDDITS</td>\n",
       "            </tr>\n",
       "            <tr>\n",
       "                                <td id=\"T_4d29abe4_f169_11ea_93da_b4d5bda8ee80row24_col0\" class=\"data row24 col0\" >AUSTRALIANPOLITICS</td>\n",
       "                        <td id=\"T_4d29abe4_f169_11ea_93da_b4d5bda8ee80row24_col1\" class=\"data row24 col1\" >WORLDPOLITICS</td>\n",
       "                        <td id=\"T_4d29abe4_f169_11ea_93da_b4d5bda8ee80row24_col2\" class=\"data row24 col2\" >LAW</td>\n",
       "                        <td id=\"T_4d29abe4_f169_11ea_93da_b4d5bda8ee80row24_col3\" class=\"data row24 col3\" >SEATTLEWA</td>\n",
       "                        <td id=\"T_4d29abe4_f169_11ea_93da_b4d5bda8ee80row24_col4\" class=\"data row24 col4\" >COMMUNISM</td>\n",
       "            </tr>\n",
       "            <tr>\n",
       "                                <td id=\"T_4d29abe4_f169_11ea_93da_b4d5bda8ee80row25_col0\" class=\"data row25 col0\" >CATHOLICISM</td>\n",
       "                        <td id=\"T_4d29abe4_f169_11ea_93da_b4d5bda8ee80row25_col1\" class=\"data row25 col1\" >BITCOIN</td>\n",
       "                        <td id=\"T_4d29abe4_f169_11ea_93da_b4d5bda8ee80row25_col2\" class=\"data row25 col2\" >FEMINISM</td>\n",
       "                        <td id=\"T_4d29abe4_f169_11ea_93da_b4d5bda8ee80row25_col3\" class=\"data row25 col3\" >ASKALIBERAL</td>\n",
       "                        <td id=\"T_4d29abe4_f169_11ea_93da_b4d5bda8ee80row25_col4\" class=\"data row25 col4\" >CAPITALISMVSOCIALISM</td>\n",
       "            </tr>\n",
       "            <tr>\n",
       "                                <td id=\"T_4d29abe4_f169_11ea_93da_b4d5bda8ee80row26_col0\" class=\"data row26 col0\" >GIFS</td>\n",
       "                        <td id=\"T_4d29abe4_f169_11ea_93da_b4d5bda8ee80row26_col1\" class=\"data row26 col1\" >SHOWERTHOUGHTS</td>\n",
       "                        <td id=\"T_4d29abe4_f169_11ea_93da_b4d5bda8ee80row26_col2\" class=\"data row26 col2\" >ANIMEMES</td>\n",
       "                        <td id=\"T_4d29abe4_f169_11ea_93da_b4d5bda8ee80row26_col3\" class=\"data row26 col3\" >ARABS</td>\n",
       "                        <td id=\"T_4d29abe4_f169_11ea_93da_b4d5bda8ee80row26_col4\" class=\"data row26 col4\" >WHOLESOMEBPT</td>\n",
       "            </tr>\n",
       "            <tr>\n",
       "                                <td id=\"T_4d29abe4_f169_11ea_93da_b4d5bda8ee80row27_col0\" class=\"data row27 col0\" >WATCHPEOPLEDIE</td>\n",
       "                        <td id=\"T_4d29abe4_f169_11ea_93da_b4d5bda8ee80row27_col1\" class=\"data row27 col1\" >VIDEOS</td>\n",
       "                        <td id=\"T_4d29abe4_f169_11ea_93da_b4d5bda8ee80row27_col2\" class=\"data row27 col2\" >MHOCPRESS</td>\n",
       "                        <td id=\"T_4d29abe4_f169_11ea_93da_b4d5bda8ee80row27_col3\" class=\"data row27 col3\" >CHINA</td>\n",
       "                        <td id=\"T_4d29abe4_f169_11ea_93da_b4d5bda8ee80row27_col4\" class=\"data row27 col4\" >TIADISCUSSION</td>\n",
       "            </tr>\n",
       "            <tr>\n",
       "                                <td id=\"T_4d29abe4_f169_11ea_93da_b4d5bda8ee80row28_col0\" class=\"data row28 col0\" >DEFRANCO</td>\n",
       "                        <td id=\"T_4d29abe4_f169_11ea_93da_b4d5bda8ee80row28_col1\" class=\"data row28 col1\" >TRUMPGRET</td>\n",
       "                        <td id=\"T_4d29abe4_f169_11ea_93da_b4d5bda8ee80row28_col2\" class=\"data row28 col2\" >BUTTCOIN</td>\n",
       "                        <td id=\"T_4d29abe4_f169_11ea_93da_b4d5bda8ee80row28_col3\" class=\"data row28 col3\" >CIRCLEBROKE2</td>\n",
       "                        <td id=\"T_4d29abe4_f169_11ea_93da_b4d5bda8ee80row28_col4\" class=\"data row28 col4\" >AMIUGLY</td>\n",
       "            </tr>\n",
       "            <tr>\n",
       "                                <td id=\"T_4d29abe4_f169_11ea_93da_b4d5bda8ee80row29_col0\" class=\"data row29 col0\" >UNEXPECTED</td>\n",
       "                        <td id=\"T_4d29abe4_f169_11ea_93da_b4d5bda8ee80row29_col1\" class=\"data row29 col1\" >SOCIALISM</td>\n",
       "                        <td id=\"T_4d29abe4_f169_11ea_93da_b4d5bda8ee80row29_col2\" class=\"data row29 col2\" ></td>\n",
       "                        <td id=\"T_4d29abe4_f169_11ea_93da_b4d5bda8ee80row29_col3\" class=\"data row29 col3\" ></td>\n",
       "                        <td id=\"T_4d29abe4_f169_11ea_93da_b4d5bda8ee80row29_col4\" class=\"data row29 col4\" ></td>\n",
       "            </tr>\n",
       "    </tbody></table>"
      ],
      "text/plain": [
       "<pandas.io.formats.style.Styler at 0x23b1a5f0948>"
      ]
     },
     "execution_count": 98,
     "metadata": {},
     "output_type": "execute_result"
    }
   ],
   "source": [
    "misclassified=test_results.loc[(test_results.true==0)&(test_results.predicted==1)].subreddit.unique()\n",
    "#Get unique subreddit names that were misclassified\n",
    "misclassified.resize(int(np.ceil(misclassified.shape[0]/5)),5)\n",
    "#Reshape them into a grid of width that will fit nicely in a jupyter notebook\n",
    "temp_df=pd.DataFrame(misclassified).applymap(lambda s: '' if s==0 else s)\n",
    "temp_df.index=[s for s in temp_df.index]\n",
    "\n",
    "temp_df.columns=[s for s in temp_df.columns]\n",
    "#Relabel the filler zeros as blanks.  Hide the index and name the columns for readability. \n",
    "temp_df.style.apply(lambda row:['background: lightpink' if row.name%2 else 'background: white' for col in row],axis=1).hide_index(\n",
    ").set_caption('Misclassified Subreddits')\n"
   ]
  },
  {
   "cell_type": "markdown",
   "metadata": {},
   "source": [
    "### On Labelling"
   ]
  },
  {
   "cell_type": "markdown",
   "metadata": {},
   "source": [
    "We can see that some of the mislabeled subreddits are a result of likely our biggest weakness; detecting fairly neutral political subreddits (e.g, 'politicaldiscussion').  Beyond this, we have a large number of communities that *are* mistakenly flagged but which one would expect a reasonable, not overly-sophisticated tool to fail on, namely those communities dedicated to covering \"extreme\" communities (e.g, \"againsthatesubreddits\") which presumably quote many \"extreme\" communities and those communities which are perhaps borderline but wouldn't themselves qualify as \"extreme\" (e.g, anarchocapitalism).  Mislabelling in cases like this does not represent a severe failure, as mentioned before.\n",
    "\n",
    "Importantly, we have communities that *do* qualify for being labeled as \"extreme\" but were accidentally passed over-- here, for instance, \"uncensorednews\", a now banned community that would qualify under the initial constraints laid out as being \"extreme\". Its not being labelled as such simply represents corruption in the real-world data; necessarily unavoidable to some extent given resource constraints.  \n",
    "\n",
    "Lastly, we have some communities that don't appear to be correctly classified for reasons that seem obscure (and again, we should resist the urge to speculate too strongly).  Those could be the result of transient effects, for instance we may have happened to capture a single snapshot that just happened to be especially emblematic of what we were looking for; if this is the case then repeated sampling could find it. \n",
    "\n",
    "The silver lining is still present in our misclassified data; we appear to be mistakenly catching subs that \"veer left\" just as readily as those that \"veer right\".\n",
    "\n",
    "Another opportunity for further work immediately presents itself here-- engage in more aggressive labelling of subreddits as \"extreme\" prior to further modelling.  Iterative techniques, based on semi-learning techniques mentioned in the readme, can be used here. "
   ]
  },
  {
   "cell_type": "markdown",
   "metadata": {},
   "source": [
    "### Further Work\n",
    "\n",
    "#### Deployment\n",
    "The system, as it stands now, can be provisionally deployed as it stands.  Collecting subreddits from a feed of new posts can then be routed through a simple API call to automatically classify posts.  Depending on what things look like behind the scenes, actual deployment can likely be more sophisticated than this.  The method described here though is quite easy to implement; doing so is a little beyond the scope of the project but a simple implementation of the post-gathering system can be seen here; note by default we set out method to look in the same time window the data was claimed from but that window can be adjusted:"
   ]
  },
  {
   "cell_type": "code",
   "execution_count": 406,
   "metadata": {
    "scrolled": false
   },
   "outputs": [
    {
     "name": "stdout",
     "output_type": "stream",
     "text": [
      "snapshot preview for /r/pets:\n",
      " ---------------------------------------- \n",
      " yeah it does thanks get him those really hard rubber toys also get him to stick to a sleeping schedule my big doggo sleeps almost the whole day when im out does he play at all we had a kitten and thought he was just super tired and he turned out to be really sick make sure you mention his lack of activity to the vet pricing varies a lot depending on your area that being said ive worked for vets for almost 15 years and the same treatment would have cost anywhere from 1000 to 1500 at most of the o \n",
      " ----------------------------------------\n",
      "pets subreddit prediction: [0] \n",
      "\n",
      "fortunately in the us we have rights that guarantee our choice to be ignorant sheep unfortunately in the us we have rights that guarantee our choice to be ignorant sheep truthfully though most other religions are in decline seems like islam is the only one that could be suppressed because the rest will slowly die out naturally and well all be better off when and if they ever all disappear better to sound like pope than whore like you slut loving piece of shit im fucking 20 female and i did not f\n",
      "uncensorednews prediction: [1]\n"
     ]
    }
   ],
   "source": [
    "model=joblib.load('models/primary_model.joblib')\n",
    "\n",
    "new_posts=get_new_posts('pets')\n",
    "#Grabbing an arbitrary subreddit, here one dedictated to pets\n",
    "print('snapshot preview for /r/pets:\\n','----'*10,'\\n',new_posts[:500],'\\n','----'*10)\n",
    "#print a preview of what we're getting\n",
    "print('pets subreddit prediction:', model.predict(\n",
    "    [reddittokenizer.tokenize(new_posts)\n",
    "              ])\n",
    "     ,'\\n')\n",
    "#Tokenize and predict\n",
    "\n",
    "new_posts2=get_new_posts('uncensorednews')\n",
    "#Grabbing another arbitrary subreddit, here the known extreme one mentioned above\n",
    "print(new_posts2[:500])\n",
    "#print a preview\n",
    "print('uncensorednews prediction:',\n",
    "model.predict([reddittokenizer.tokenize(new_posts2)])\n",
    ")"
   ]
  },
  {
   "cell_type": "markdown",
   "metadata": {},
   "source": [
    "As always, apologies the language.  Further deployment strategies could involve routing messages to suport staff, as discussed in the readme.  As a \"dry run\", such a routing could merely be recorded while existing methods are still used, allowing for performance to be gauged without invoking real risks immediately.\n",
    "\n",
    "The call to the API demonstrated above could easily be made into a small novelty app for web deployment; invoking the code above on the most recent 100 posts a given subreddit has (which will be the default method done if the time window is suppressed).  Ideally the model would first be retrained on more recently available data first, though exactly *how* recent is somewhat tricky for the reasons given when selecting this time window in the first place.\n",
    "\n",
    "#### Improvements & Refinements\n",
    "Still staying close to the original plan, the most obvious thing to do here is to improve the way the data was collected and processed.  In particular, much of the regex could be cleaned up.  URL recognition in particular is unsatisfying, and some of the transformations can likely be re-ordered to minimize information loss.  Some more clever methods are used in the regex of the `get_new_posts` method demonstrated above, which was nevertheless designed to still maintain most of the **relevant** flaws in the initial work. \n",
    "\n",
    "As mentioned in the remarks on labelling, expanding the number of subreddits labelled initially can help offset the distortions that the upsampling and downsampling created.  Even fairly semantics-blind methods of NLP, such as the tf-idf vectorization used here, are relatively soft to most resampling techniques and so being able to mitigate this would be highly desirable.  \n",
    "\n",
    "A more rigorous investigation of the extensibility of this tool should be conducted.  Some \"stabs\" were given here, in the section immediately preceding this one, but it's still bound to the same temporal frame and relied on checking out small data points.  In particular, not done here it all, if resources allow it would be instructive to try to label \"extreme\" subreddits with the same criteria over the next couple of years, one month at a time, and to track how the performance metrics fall off as time from the point of training increases."
   ]
  }
 ],
 "metadata": {
  "kernelspec": {
   "display_name": "Python 3",
   "language": "python",
   "name": "python3"
  },
  "language_info": {
   "codemirror_mode": {
    "name": "ipython",
    "version": 3
   },
   "file_extension": ".py",
   "mimetype": "text/x-python",
   "name": "python",
   "nbconvert_exporter": "python",
   "pygments_lexer": "ipython3",
   "version": "3.7.7"
  }
 },
 "nbformat": 4,
 "nbformat_minor": 4
}
